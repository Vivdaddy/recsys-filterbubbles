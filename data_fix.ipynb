{
 "cells": [
  {
   "cell_type": "markdown",
   "metadata": {},
   "source": []
  },
  {
   "cell_type": "code",
   "execution_count": null,
   "metadata": {},
   "outputs": [],
   "source": []
  },
  {
   "cell_type": "code",
   "execution_count": 1,
   "metadata": {},
   "outputs": [],
   "source": [
    "import pandas as pd\n",
    "import os\n",
    "path = os.getcwd()\n",
    "raw_data = pd.read_csv(path + \"/data/twitch_full.csv\", sep=',', header=0)\n",
    "df = raw_data.head(100000)\n",
    "df.to_csv(path+\"/data/twitch100k.csv\", index=False)"
   ]
  }
 ],
 "metadata": {
  "interpreter": {
   "hash": "f977055c62305f28b056bede2a4316452cd0983797a34078d04f921b9e7d01af"
  },
  "kernelspec": {
   "display_name": "Python 3.9.5 64-bit ('recys-3.9': venv)",
   "name": "python3"
  },
  "language_info": {
   "codemirror_mode": {
    "name": "ipython",
    "version": 3
   },
   "file_extension": ".py",
   "mimetype": "text/x-python",
   "name": "python",
   "nbconvert_exporter": "python",
   "pygments_lexer": "ipython3",
   "version": "3.8.10"
  },
  "orig_nbformat": 4
 },
 "nbformat": 4,
 "nbformat_minor": 2
}
