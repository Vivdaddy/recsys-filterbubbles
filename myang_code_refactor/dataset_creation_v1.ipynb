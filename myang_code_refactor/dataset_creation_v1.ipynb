{
 "cells": [
  {
   "cell_type": "code",
   "execution_count": 1,
   "id": "24dd97c7-60e9-48f7-a28c-4f8f236aa6d2",
   "metadata": {},
   "outputs": [],
   "source": [
    "%load_ext autoreload"
   ]
  },
  {
   "cell_type": "code",
   "execution_count": 2,
   "id": "06555c04-6883-4237-9f28-0cd13f4b1022",
   "metadata": {},
   "outputs": [],
   "source": [
    "%autoreload 2"
   ]
  },
  {
   "cell_type": "code",
   "execution_count": 3,
   "id": "7a026ae5-657c-477b-83e2-cc02565861c2",
   "metadata": {},
   "outputs": [
    {
     "name": "stdout",
     "output_type": "stream",
     "text": [
      "/raid/home/myang349/recsys-filterbubbles\n"
     ]
    }
   ],
   "source": [
    "cd /raid/home/myang349/recsys-filterbubbles/"
   ]
  },
  {
   "cell_type": "code",
   "execution_count": 5,
   "id": "d90ae3b3-5451-48a5-a3ef-1afe482c4feb",
   "metadata": {},
   "outputs": [],
   "source": [
    "import torch\n",
    "import torch.nn as nn\n",
    "import torch.nn.functional as F\n",
    "import os\n",
    "import torch.optim as optim\n",
    "from os import listdir\n",
    "from os.path import isfile, join\n",
    "from tracin.tracin import (\n",
    "    save_tracin_checkpoint,\n",
    "    load_tracin_checkpoint,\n",
    "    calculate_tracin_influence,\n",
    ")\n",
    "import pandas as pd\n",
    "from LSTM_clean.utils import filter_and_split_data, sequence_generator, printl\n",
    "from LSTM_clean.model import LSTM \n",
    "from collections import Counter\n",
    "import numpy as np\n",
    "import pickle\n",
    "from collections import defaultdict"
   ]
  },
  {
   "cell_type": "code",
   "execution_count": 7,
   "id": "1f2b2644-ee3a-4f2b-866b-382b85ac4c12",
   "metadata": {},
   "outputs": [
    {
     "data": {
      "text/plain": [
       "'/raid/home/myang349/recsys-filterbubbles'"
      ]
     },
     "execution_count": 7,
     "metadata": {},
     "output_type": "execute_result"
    }
   ],
   "source": [
    "os.getcwd()"
   ]
  },
  {
   "cell_type": "code",
   "execution_count": 21,
   "id": "cc0d1f4a-4974-4b2e-afd9-9be5181517d0",
   "metadata": {},
   "outputs": [
    {
     "name": "stdout",
     "output_type": "stream",
     "text": [
      "Starting data retrieval for: /raid/home/myang349/recsys-filterbubbles/data/\n",
      "\n",
      "Preprocessing Data into Sequence...\n",
      "\n",
      "Original # of interactions: 100000\n",
      "# of Training Points: 85551\n",
      "# of Valid Points: 2529\n",
      "# of Test Points: 2529\n"
     ]
    }
   ],
   "source": [
    "\"\"\"This file converts data into sequence format and saves it\"\"\"\n",
    "\n",
    "import os\n",
    "import pickle\n",
    "\n",
    "import pandas as pd\n",
    "\n",
    "from LSTM_clean.utils import filter_and_split_data, printl, sequence_generator\n",
    "\n",
    "###################\n",
    "### CONFIG\n",
    "# TODO: User should init these values\n",
    "LOAD_FOLDER = \"/raid/home/myang349/recsys-filterbubbles/data/\"\n",
    "LOAD_NAME = \"twitch100k.csv\"\n",
    "SAVE_FOLDER = \"/raid/home/myang349/recsys-filterbubbles/data/twitch_sequence/\"\n",
    "\n",
    "\n",
    "SAVE_TRAIN_NAME = \"train.data\"\n",
    "SAVE_VALID_NAME = \"valid.data\"\n",
    "SAVE_TEST_NAME = \"test.data\"\n",
    "USER_KEY = \"user_id\"\n",
    "ITEM_KEY = \"streamer_name\"\n",
    "TIME_KEY = \"stop_time\"\n",
    "LOOK_BACK = 50\n",
    "\n",
    "\n",
    "### 1. Reading File\n",
    "print(f\"Starting data retrieval for: {LOAD_FOLDER}\")\n",
    "df = pd.read_csv(os.path.join(LOAD_FOLDER, LOAD_NAME))\n",
    "data = df[[USER_KEY, ITEM_KEY, TIME_KEY]].values\n",
    "\n",
    "\n",
    "### 2. Preprocessing\n",
    "print(\"\\nPreprocessing Data into Sequence...\")\n",
    "unique_users = sorted(list(set(data[:, 0])))\n",
    "unique_items = sorted(list(set(data[:, 1])))\n",
    "\n",
    "data_with_splits = filter_and_split_data(data)\n",
    "train, valid, test = sequence_generator(data_with_splits, look_back=LOOK_BACK)\n",
    "\n",
    "### 3. Statistics\n",
    "print(f\"\\nOriginal # of interactions: {len(df)}\")\n",
    "print(f\"# of Training Points: {len(train)}\")\n",
    "print(f\"# of Valid Points: {len(valid)}\")\n",
    "print(f\"# of Test Points: {len(test)}\")"
   ]
  },
  {
   "cell_type": "markdown",
   "id": "3f0964ff-11b1-4b92-979c-b28b55c16ffd",
   "metadata": {},
   "source": [
    "# Exploring Data"
   ]
  },
  {
   "cell_type": "code",
   "execution_count": 14,
   "id": "b97baeab-99b6-4286-a49e-d774a1983b53",
   "metadata": {},
   "outputs": [
    {
     "ename": "AttributeError",
     "evalue": "'list' object has no attribute 'shape'",
     "output_type": "error",
     "traceback": [
      "\u001b[0;31m---------------------------------------------------------------------------\u001b[0m",
      "\u001b[0;31mAttributeError\u001b[0m                            Traceback (most recent call last)",
      "\u001b[0;32m/tmp/ipykernel_4108566/1089416743.py\u001b[0m in \u001b[0;36m<module>\u001b[0;34m\u001b[0m\n\u001b[0;32m----> 1\u001b[0;31m \u001b[0mtrain\u001b[0m\u001b[0;34m.\u001b[0m\u001b[0mshape\u001b[0m\u001b[0;34m\u001b[0m\u001b[0;34m\u001b[0m\u001b[0m\n\u001b[0m",
      "\u001b[0;31mAttributeError\u001b[0m: 'list' object has no attribute 'shape'"
     ]
    }
   ],
   "source": [
    "train.shape"
   ]
  },
  {
   "cell_type": "code",
   "execution_count": null,
   "id": "2fbd4811-c18b-434c-8f73-4ffe9e0755ad",
   "metadata": {},
   "outputs": [],
   "source": []
  }
 ],
 "metadata": {
  "kernelspec": {
   "display_name": "cse_v1",
   "language": "python",
   "name": "cse_v1"
  },
  "language_info": {
   "codemirror_mode": {
    "name": "ipython",
    "version": 3
   },
   "file_extension": ".py",
   "mimetype": "text/x-python",
   "name": "python",
   "nbconvert_exporter": "python",
   "pygments_lexer": "ipython3",
   "version": "3.9.7"
  }
 },
 "nbformat": 4,
 "nbformat_minor": 5
}
