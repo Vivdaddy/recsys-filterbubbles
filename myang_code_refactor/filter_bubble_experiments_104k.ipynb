{
 "cells": [
  {
   "cell_type": "code",
   "execution_count": 13,
   "id": "70da6389-9a23-45e7-9efa-d83fc854abb9",
   "metadata": {},
   "outputs": [
    {
     "name": "stdout",
     "output_type": "stream",
     "text": [
      "The autoreload extension is already loaded. To reload it, use:\n",
      "  %reload_ext autoreload\n"
     ]
    }
   ],
   "source": [
    "%load_ext autoreload"
   ]
  },
  {
   "cell_type": "code",
   "execution_count": 14,
   "id": "1b5f6d80-0a74-44ee-8165-b62787de921d",
   "metadata": {},
   "outputs": [],
   "source": [
    "%autoreload 2"
   ]
  },
  {
   "cell_type": "code",
   "execution_count": 15,
   "id": "69f57cd7-0a34-4659-af6d-b3caced06895",
   "metadata": {},
   "outputs": [
    {
     "name": "stdout",
     "output_type": "stream",
     "text": [
      "/raid/home/myang349/recsys-filterbubbles\n"
     ]
    }
   ],
   "source": [
    "cd /raid/home/myang349/recsys-filterbubbles/"
   ]
  },
  {
   "cell_type": "markdown",
   "id": "a4ea183d-dc55-4198-bdfb-51b52282cfb5",
   "metadata": {},
   "source": [
    "# Imports"
   ]
  },
  {
   "cell_type": "code",
   "execution_count": 16,
   "id": "f6cda501-8f39-4917-b693-4d4ac98bb1b9",
   "metadata": {},
   "outputs": [],
   "source": [
    "import torch\n",
    "import torch.nn as nn\n",
    "import torch.nn.functional as F\n",
    "import os\n",
    "import torch.optim as optim\n",
    "from os import listdir\n",
    "from os.path import isfile, join\n",
    "from tracin.tracin import (\n",
    "    save_tracin_checkpoint,\n",
    "    load_tracin_checkpoint,\n",
    "    calculate_tracin_influence,\n",
    ")\n",
    "import pandas as pd\n",
    "from LSTM_clean.utils import filter_and_split_data, sequence_generator, load_community_dict, get_communities \n",
    "from LSTM_clean.model import LSTM \n",
    "from collections import Counter\n",
    "import numpy as np\n",
    "import pickle\n",
    "from collections import defaultdict\n",
    "import copy\n",
    "from torch.optim import SGD\n",
    "from lstm_wrapper import train_model, get_topk_predictions\n",
    "from dataclasses import dataclass"
   ]
  },
  {
   "cell_type": "markdown",
   "id": "1b3c4acb-300f-419e-ac3c-497a6cda175c",
   "metadata": {},
   "source": [
    "# Loading Data"
   ]
  },
  {
   "cell_type": "code",
   "execution_count": 22,
   "id": "952f56b9-ff9c-47a9-8214-60a86c291ca2",
   "metadata": {},
   "outputs": [],
   "source": [
    "# Data Location\n",
    "# Use SAVE_PREFIX to mark different datasets\n",
    "SAVE_PREFIX = \"104k\"\n",
    "SAVE_FOLDER = \"/raid/home/myang349/recsys-filterbubbles/data/twitch_sequence/\"\n",
    "SAVE_TRAIN_NAME = SAVE_PREFIX + \"train.data\"\n",
    "SAVE_VALID_NAME = SAVE_PREFIX + \"valid.data\"\n",
    "SAVE_TEST_NAME = SAVE_PREFIX + \"test.data\"\n",
    "SAVE_COMMUNITY_NAME = SAVE_PREFIX + \"lstm_idx_communities.data\""
   ]
  },
  {
   "cell_type": "code",
   "execution_count": 23,
   "id": "9374a04b-0e03-441b-b0cd-a8ea651bf954",
   "metadata": {},
   "outputs": [],
   "source": [
    "train_data = np.load(os.path.join(SAVE_FOLDER, SAVE_TRAIN_NAME), allow_pickle=True)\n",
    "valid_data = np.load(os.path.join(SAVE_FOLDER, SAVE_VALID_NAME), allow_pickle=True)\n",
    "test_data = np.load(os.path.join(SAVE_FOLDER, SAVE_TEST_NAME), allow_pickle=True)"
   ]
  },
  {
   "cell_type": "markdown",
   "id": "cac87f8b-02b1-4680-ad33-94ab15896c9d",
   "metadata": {},
   "source": [
    "# Training"
   ]
  },
  {
   "cell_type": "code",
   "execution_count": null,
   "id": "0b46fdd8-8b71-47b0-9207-39d3b82c62a8",
   "metadata": {},
   "outputs": [
    {
     "name": "stdout",
     "output_type": "stream",
     "text": [
      "Device is cuda\n",
      "Train: 74049, Valid: 9202\n",
      "Model is  LSTM(\n",
      "  (item_emb): Embedding(3312, 128, padding_idx=0)\n",
      "  (LSTM): LSTM(128, 64, batch_first=True)\n",
      "  (fc): Linear(in_features=64, out_features=3312, bias=True)\n",
      ")\n",
      "\n",
      "Training and testing\n",
      "train # = 74049, test # = 9202\n",
      "\n",
      "Epoch 0\tTrain Loss: 0.01587924685014117\tTest MRR: 0.006441187991632963\tTest Recall@10: 0.010215170615083678\tElapsed time: 2.4003243446350098\n",
      "saving checkpoint to /raid/home/myang349/recsys-filterbubbles/checkpoints/lstm_checkpoint_epoch0.pt\n",
      "Epoch 5\tTrain Loss: 0.015569483266807082\tTest MRR: 0.05171927357058986\tTest Recall@10: 0.11562703760052162\tElapsed time: 8.231169939041138\n",
      "Epoch 10\tTrain Loss: 0.014784718266869511\tTest MRR: 0.05384537881947244\tTest Recall@10: 0.10910671593131928\tElapsed time: 8.797767639160156\n",
      "saving checkpoint to /raid/home/myang349/recsys-filterbubbles/checkpoints/lstm_checkpoint_epoch10.pt\n",
      "Epoch 15\tTrain Loss: 0.014091254752061149\tTest MRR: 0.06597926250997509\tTest Recall@10: 0.13660073896978916\tElapsed time: 8.297337770462036\n",
      "Epoch 20\tTrain Loss: 0.013696024748834345\tTest MRR: 0.07987851527740217\tTest Recall@10: 0.16322538578569876\tElapsed time: 8.3170166015625\n",
      "saving checkpoint to /raid/home/myang349/recsys-filterbubbles/checkpoints/lstm_checkpoint_epoch20.pt\n",
      "Epoch 25\tTrain Loss: 0.013378730159805318\tTest MRR: 0.09514180859925238\tTest Recall@10: 0.19158878504672897\tElapsed time: 7.838503122329712\n",
      "Epoch 30\tTrain Loss: 0.013079614188132159\tTest MRR: 0.1136778309594829\tTest Recall@10: 0.21930015214083895\tElapsed time: 8.104957580566406\n",
      "saving checkpoint to /raid/home/myang349/recsys-filterbubbles/checkpoints/lstm_checkpoint_epoch30.pt\n",
      "Epoch 35\tTrain Loss: 0.012786686145957779\tTest MRR: 0.12877573510971074\tTest Recall@10: 0.2466855031514888\tElapsed time: 8.831612348556519\n",
      "Epoch 40\tTrain Loss: 0.012521064518597526\tTest MRR: 0.13946878058895137\tTest Recall@10: 0.2702673331884373\tElapsed time: 8.347250938415527\n",
      "saving checkpoint to /raid/home/myang349/recsys-filterbubbles/checkpoints/lstm_checkpoint_epoch40.pt\n",
      "Epoch 45\tTrain Loss: 0.012272903918543826\tTest MRR: 0.1510756535801139\tTest Recall@10: 0.2896109541404043\tElapsed time: 8.115044355392456\n",
      "Epoch 50\tTrain Loss: 0.012059443565166401\tTest MRR: 0.15984205336332555\tTest Recall@10: 0.30558574222995\tElapsed time: 8.844266653060913\n",
      "saving checkpoint to /raid/home/myang349/recsys-filterbubbles/checkpoints/lstm_checkpoint_epoch50.pt\n",
      "Epoch 55\tTrain Loss: 0.011859130907027162\tTest MRR: 0.16781562825641785\tTest Recall@10: 0.31840904151271465\tElapsed time: 8.223012924194336\n",
      "Epoch 60\tTrain Loss: 0.011678042425520294\tTest MRR: 0.1754205883447912\tTest Recall@10: 0.32949358835035863\tElapsed time: 8.546395778656006\n",
      "saving checkpoint to /raid/home/myang349/recsys-filterbubbles/checkpoints/lstm_checkpoint_epoch60.pt\n",
      "Epoch 65\tTrain Loss: 0.011503820002419498\tTest MRR: 0.18199254869927603\tTest Recall@10: 0.3427515757444034\tElapsed time: 7.892660856246948\n",
      "Epoch 70\tTrain Loss: 0.011346443442967093\tTest MRR: 0.18655315091999333\tTest Recall@10: 0.35220604216474677\tElapsed time: 7.360206365585327\n",
      "saving checkpoint to /raid/home/myang349/recsys-filterbubbles/checkpoints/lstm_checkpoint_epoch70.pt\n",
      "Epoch 75\tTrain Loss: 0.011426010454325166\tTest MRR: 0.187140582541522\tTest Recall@10: 0.3538361225820474\tElapsed time: 7.994119882583618\n",
      "Epoch 80\tTrain Loss: 0.011136079533539397\tTest MRR: 0.19292758641392338\tTest Recall@10: 0.36600738969789176\tElapsed time: 8.472733974456787\n",
      "saving checkpoint to /raid/home/myang349/recsys-filterbubbles/checkpoints/lstm_checkpoint_epoch80.pt\n",
      "Epoch 85\tTrain Loss: 0.010984072123525737\tTest MRR: 0.19699051843147933\tTest Recall@10: 0.3743751358400348\tElapsed time: 7.796201467514038\n",
      "Epoch 90\tTrain Loss: 0.010865205717041072\tTest MRR: 0.20152352766147327\tTest Recall@10: 0.37980873723103675\tElapsed time: 7.932062149047852\n",
      "saving checkpoint to /raid/home/myang349/recsys-filterbubbles/checkpoints/lstm_checkpoint_epoch90.pt\n",
      "Epoch 95\tTrain Loss: 0.01074396395329439\tTest MRR: 0.2060668382301436\tTest Recall@10: 0.3878504672897196\tElapsed time: 8.360886335372925\n",
      "Epoch 100\tTrain Loss: 0.010631302077291554\tTest MRR: 0.21057066936894248\tTest Recall@10: 0.39263203651380135\tElapsed time: 7.979629755020142\n",
      "saving checkpoint to /raid/home/myang349/recsys-filterbubbles/checkpoints/lstm_checkpoint_epoch100.pt\n",
      "Epoch 105\tTrain Loss: 0.010536115743186346\tTest MRR: 0.2122434679496217\tTest Recall@10: 0.3964355574875027\tElapsed time: 8.321661233901978\n",
      "Epoch 110\tTrain Loss: 0.01043427117849778\tTest MRR: 0.2134638507276855\tTest Recall@10: 0.40045642251684416\tElapsed time: 8.48779296875\n",
      "saving checkpoint to /raid/home/myang349/recsys-filterbubbles/checkpoints/lstm_checkpoint_epoch110.pt\n",
      "Epoch 115\tTrain Loss: 0.010730552509777017\tTest MRR: 0.20932566614623965\tTest Recall@10: 0.39230602043034124\tElapsed time: 8.45774507522583\n",
      "Epoch 120\tTrain Loss: 0.010410235942961175\tTest MRR: 0.2150049630138097\tTest Recall@10: 0.40317322321234517\tElapsed time: 7.8546059131622314\n",
      "saving checkpoint to /raid/home/myang349/recsys-filterbubbles/checkpoints/lstm_checkpoint_epoch120.pt\n",
      "Epoch 125\tTrain Loss: 0.01025200604275206\tTest MRR: 0.2211023405323708\tTest Recall@10: 0.40828080851988696\tElapsed time: 8.913585186004639\n",
      "Epoch 130\tTrain Loss: 0.010143136351587874\tTest MRR: 0.22166121211197415\tTest Recall@10: 0.41458378613344926\tElapsed time: 7.715100288391113\n",
      "saving checkpoint to /raid/home/myang349/recsys-filterbubbles/checkpoints/lstm_checkpoint_epoch130.pt\n",
      "Epoch 135\tTrain Loss: 0.010047804878011388\tTest MRR: 0.22360500158117377\tTest Recall@10: 0.42153879591393173\tElapsed time: 7.588614225387573\n",
      "Epoch 140\tTrain Loss: 0.00996914063042977\tTest MRR: 0.22575649364706216\tTest Recall@10: 0.42490762877635296\tElapsed time: 8.29767632484436\n",
      "saving checkpoint to /raid/home/myang349/recsys-filterbubbles/checkpoints/lstm_checkpoint_epoch140.pt\n",
      "Epoch 145\tTrain Loss: 0.009881949305291272\tTest MRR: 0.2272324473876893\tTest Recall@10: 0.4293631819169746\tElapsed time: 7.447523832321167\n",
      "Epoch 150\tTrain Loss: 0.00981029292637512\tTest MRR: 0.22962558876960076\tTest Recall@10: 0.4321886546402956\tElapsed time: 7.85456395149231\n",
      "saving checkpoint to /raid/home/myang349/recsys-filterbubbles/checkpoints/lstm_checkpoint_epoch150.pt\n",
      "Epoch 155\tTrain Loss: 0.009737040451159636\tTest MRR: 0.23141980642079185\tTest Recall@10: 0.4344707672245164\tElapsed time: 8.835561513900757\n",
      "Epoch 160\tTrain Loss: 0.009673064602696535\tTest MRR: 0.23287745181549713\tTest Recall@10: 0.4392523364485981\tElapsed time: 9.039427280426025\n",
      "saving checkpoint to /raid/home/myang349/recsys-filterbubbles/checkpoints/lstm_checkpoint_epoch160.pt\n",
      "Epoch 165\tTrain Loss: 0.00960683583727076\tTest MRR: 0.23348098224432698\tTest Recall@10: 0.44153444903281897\tElapsed time: 8.615525245666504\n",
      "Epoch 170\tTrain Loss: 0.009537914035647053\tTest MRR: 0.23585351239007163\tTest Recall@10: 0.4442512497283199\tElapsed time: 8.241942167282104\n",
      "saving checkpoint to /raid/home/myang349/recsys-filterbubbles/checkpoints/lstm_checkpoint_epoch170.pt\n",
      "Epoch 175\tTrain Loss: 0.009479944871039241\tTest MRR: 0.2366605129128595\tTest Recall@10: 0.44729406650728104\tElapsed time: 9.094117164611816\n",
      "Epoch 180\tTrain Loss: 0.009497128910492845\tTest MRR: 0.23689806815602765\tTest Recall@10: 0.4496848511193219\tElapsed time: 8.88151741027832\n",
      "saving checkpoint to /raid/home/myang349/recsys-filterbubbles/checkpoints/lstm_checkpoint_epoch180.pt\n",
      "Epoch 185\tTrain Loss: 0.009396908209147408\tTest MRR: 0.23673729870726415\tTest Recall@10: 0.4535970441208433\tElapsed time: 8.204151391983032\n",
      "Epoch 190\tTrain Loss: 0.009325287366509364\tTest MRR: 0.23793872105706868\tTest Recall@10: 0.4574005650945447\tElapsed time: 9.099932670593262\n",
      "saving checkpoint to /raid/home/myang349/recsys-filterbubbles/checkpoints/lstm_checkpoint_epoch190.pt\n",
      "Epoch 195\tTrain Loss: 0.009269216049079558\tTest MRR: 0.2389858198171441\tTest Recall@10: 0.4581612692892849\tElapsed time: 8.202613830566406\n",
      "Epoch 200\tTrain Loss: 0.009224981609273854\tTest MRR: 0.24043678729894474\tTest Recall@10: 0.45935666159530536\tElapsed time: 8.527650594711304\n",
      "saving checkpoint to /raid/home/myang349/recsys-filterbubbles/checkpoints/lstm_checkpoint_epoch200.pt\n",
      "Epoch 205\tTrain Loss: 0.009183399646592483\tTest MRR: 0.24104876662834485\tTest Recall@10: 0.4605520539013258\tElapsed time: 8.432727098464966\n",
      "Epoch 210\tTrain Loss: 0.009123416054435394\tTest MRR: 0.24114931017267932\tTest Recall@10: 0.4647902629863073\tElapsed time: 7.516651153564453\n",
      "saving checkpoint to /raid/home/myang349/recsys-filterbubbles/checkpoints/lstm_checkpoint_epoch210.pt\n",
      "Epoch 215\tTrain Loss: 0.009909083135564392\tTest MRR: 0.22314822385049032\tTest Recall@10: 0.43512279939143667\tElapsed time: 7.914791822433472\n",
      "Epoch 220\tTrain Loss: 0.009368722560421863\tTest MRR: 0.23770285494609947\tTest Recall@10: 0.4600086937622256\tElapsed time: 9.347898721694946\n",
      "saving checkpoint to /raid/home/myang349/recsys-filterbubbles/checkpoints/lstm_checkpoint_epoch220.pt\n",
      "Epoch 225\tTrain Loss: 0.009705092805884243\tTest MRR: 0.22946985804236011\tTest Recall@10: 0.4430558574222995\tElapsed time: 8.377777576446533\n",
      "Epoch 230\tTrain Loss: 0.00932354050585175\tTest MRR: 0.24073375958591975\tTest Recall@10: 0.45979134970658553\tElapsed time: 7.984154462814331\n",
      "saving checkpoint to /raid/home/myang349/recsys-filterbubbles/checkpoints/lstm_checkpoint_epoch230.pt\n",
      "Epoch 235\tTrain Loss: 0.009198247358480838\tTest MRR: 0.2435911537677542\tTest Recall@10: 0.46924581612692895\tElapsed time: 8.836522817611694\n",
      "Epoch 240\tTrain Loss: 0.009109360575845\tTest MRR: 0.24642180340635328\tTest Recall@10: 0.4691371440991089\tElapsed time: 8.421231031417847\n",
      "saving checkpoint to /raid/home/myang349/recsys-filterbubbles/checkpoints/lstm_checkpoint_epoch240.pt\n",
      "Epoch 245\tTrain Loss: 0.009044063986526978\tTest MRR: 0.24747148942190048\tTest Recall@10: 0.475114105629211\tElapsed time: 8.534891128540039\n",
      "Epoch 250\tTrain Loss: 0.008978387512882713\tTest MRR: 0.24818602507864773\tTest Recall@10: 0.47783090632471203\tElapsed time: 8.610997676849365\n",
      "saving checkpoint to /raid/home/myang349/recsys-filterbubbles/checkpoints/lstm_checkpoint_epoch250.pt\n",
      "Epoch 255\tTrain Loss: 0.00892456622108843\tTest MRR: 0.24950898757562595\tTest Recall@10: 0.4807650510758531\tElapsed time: 9.468066215515137\n",
      "Epoch 260\tTrain Loss: 0.008873148114775036\tTest MRR: 0.24939824909201935\tTest Recall@10: 0.47956965876983265\tElapsed time: 8.250629425048828\n",
      "saving checkpoint to /raid/home/myang349/recsys-filterbubbles/checkpoints/lstm_checkpoint_epoch260.pt\n",
      "Epoch 265\tTrain Loss: 0.008833344997655394\tTest MRR: 0.2512140925275782\tTest Recall@10: 0.4847859161051945\tElapsed time: 8.922762870788574\n",
      "Epoch 270\tTrain Loss: 0.008790338782675334\tTest MRR: 0.252926674013403\tTest Recall@10: 0.48239513149315366\tElapsed time: 8.381534814834595\n",
      "saving checkpoint to /raid/home/myang349/recsys-filterbubbles/checkpoints/lstm_checkpoint_epoch270.pt\n",
      "Epoch 275\tTrain Loss: 0.008746226522369976\tTest MRR: 0.251683080205134\tTest Recall@10: 0.4841338839382743\tElapsed time: 8.727749347686768\n",
      "Epoch 280\tTrain Loss: 0.008704119487594973\tTest MRR: 0.2528523888413418\tTest Recall@10: 0.4836991958269941\tElapsed time: 7.395323991775513\n",
      "saving checkpoint to /raid/home/myang349/recsys-filterbubbles/checkpoints/lstm_checkpoint_epoch280.pt\n",
      "Epoch 285\tTrain Loss: 0.008675835720491331\tTest MRR: 0.2536077209578612\tTest Recall@10: 0.48739404477287546\tElapsed time: 7.4629364013671875\n",
      "Epoch 290\tTrain Loss: 0.008638719451227997\tTest MRR: 0.25362828423990375\tTest Recall@10: 0.48706802868941534\tElapsed time: 8.661959409713745\n",
      "saving checkpoint to /raid/home/myang349/recsys-filterbubbles/checkpoints/lstm_checkpoint_epoch290.pt\n",
      "Epoch 295\tTrain Loss: 0.008613619015996617\tTest MRR: 0.25488708702011637\tTest Recall@10: 0.4905455335796566\tElapsed time: 8.278132200241089\n",
      "Epoch 300\tTrain Loss: 0.00858982351591306\tTest MRR: 0.25486653906419354\tTest Recall@10: 0.48956748532927624\tElapsed time: 8.225510358810425\n",
      "saving checkpoint to /raid/home/myang349/recsys-filterbubbles/checkpoints/lstm_checkpoint_epoch300.pt\n",
      "Epoch 305\tTrain Loss: 0.008530991937319245\tTest MRR: 0.25534975954211486\tTest Recall@10: 0.4908715496631167\tElapsed time: 9.03388237953186\n",
      "Epoch 310\tTrain Loss: 0.008498960601323834\tTest MRR: 0.2552801100140854\tTest Recall@10: 0.49152358183003697\tElapsed time: 8.899219036102295\n",
      "saving checkpoint to /raid/home/myang349/recsys-filterbubbles/checkpoints/lstm_checkpoint_epoch310.pt\n",
      "Epoch 315\tTrain Loss: 0.008479138924530782\tTest MRR: 0.254420258553551\tTest Recall@10: 0.4953271028037383\tElapsed time: 8.157742738723755\n",
      "Epoch 320\tTrain Loss: 0.00843554264699106\tTest MRR: 0.25595017676532855\tTest Recall@10: 0.49630515105411865\tElapsed time: 8.918093204498291\n",
      "saving checkpoint to /raid/home/myang349/recsys-filterbubbles/checkpoints/lstm_checkpoint_epoch320.pt\n",
      "Epoch 325\tTrain Loss: 0.008400132740486815\tTest MRR: 0.2550014715248459\tTest Recall@10: 0.49369702238643776\tElapsed time: 7.760819673538208\n",
      "Epoch 330\tTrain Loss: 0.00837243390045642\tTest MRR: 0.2555648879972994\tTest Recall@10: 0.4981525755270593\tElapsed time: 7.797188997268677\n",
      "saving checkpoint to /raid/home/myang349/recsys-filterbubbles/checkpoints/lstm_checkpoint_epoch330.pt\n",
      "Epoch 335\tTrain Loss: 0.008341134160382367\tTest MRR: 0.25674722330070787\tTest Recall@10: 0.49847859161051944\tElapsed time: 8.37028431892395\n",
      "Epoch 340\tTrain Loss: 0.008321811881470605\tTest MRR: 0.2559168767346183\tTest Recall@10: 0.497174527276679\tElapsed time: 7.7149498462677\n",
      "saving checkpoint to /raid/home/myang349/recsys-filterbubbles/checkpoints/lstm_checkpoint_epoch340.pt\n",
      "Epoch 345\tTrain Loss: 0.008343402451606884\tTest MRR: 0.2553341100303313\tTest Recall@10: 0.5003260160834602\tElapsed time: 7.778357982635498\n",
      "Epoch 350\tTrain Loss: 0.008277166390248681\tTest MRR: 0.25732054115997083\tTest Recall@10: 0.4996739839165399\tElapsed time: 7.549699783325195\n",
      "saving checkpoint to /raid/home/myang349/recsys-filterbubbles/checkpoints/lstm_checkpoint_epoch350.pt\n",
      "Epoch 355\tTrain Loss: 0.008360611321700767\tTest MRR: 0.2540877782756512\tTest Recall@10: 0.4946750706368181\tElapsed time: 6.965943098068237\n",
      "Epoch 360\tTrain Loss: 0.00828174269785847\tTest MRR: 0.2563028878472988\tTest Recall@10: 0.49956531188871983\tElapsed time: 7.68192458152771\n",
      "saving checkpoint to /raid/home/myang349/recsys-filterbubbles/checkpoints/lstm_checkpoint_epoch360.pt\n",
      "Epoch 365\tTrain Loss: 0.00823825271039874\tTest MRR: 0.2557015182781327\tTest Recall@10: 0.49869593566615955\tElapsed time: 8.631621599197388\n",
      "Epoch 370\tTrain Loss: 0.008208073771721613\tTest MRR: 0.25748303162262437\tTest Recall@10: 0.5003260160834602\tElapsed time: 8.411832571029663\n",
      "saving checkpoint to /raid/home/myang349/recsys-filterbubbles/checkpoints/lstm_checkpoint_epoch370.pt\n",
      "Epoch 375\tTrain Loss: 0.008197582404417638\tTest MRR: 0.2559221677095948\tTest Recall@10: 0.4993479678330798\tElapsed time: 7.968221187591553\n",
      "Epoch 380\tTrain Loss: 0.008147442267923704\tTest MRR: 0.257000902510494\tTest Recall@10: 0.5018474244729406\tElapsed time: 8.446990489959717\n",
      "saving checkpoint to /raid/home/myang349/recsys-filterbubbles/checkpoints/lstm_checkpoint_epoch380.pt\n",
      "Epoch 385\tTrain Loss: 0.008107194401581676\tTest MRR: 0.2570968030456953\tTest Recall@10: 0.5013040643338404\tElapsed time: 8.032705783843994\n",
      "Epoch 390\tTrain Loss: 0.008391939498524683\tTest MRR: 0.2489767395290664\tTest Recall@10: 0.49521843077591826\tElapsed time: 8.07735276222229\n",
      "saving checkpoint to /raid/home/myang349/recsys-filterbubbles/checkpoints/lstm_checkpoint_epoch390.pt\n",
      "Epoch 395\tTrain Loss: 0.00827222739494773\tTest MRR: 0.25181528086924426\tTest Recall@10: 0.49804390349923927\tElapsed time: 7.960303783416748\n",
      "Epoch 400\tTrain Loss: 0.008682814337812537\tTest MRR: 0.2513476547415152\tTest Recall@10: 0.49065420560747663\tElapsed time: 8.524967670440674\n",
      "saving checkpoint to /raid/home/myang349/recsys-filterbubbles/checkpoints/lstm_checkpoint_epoch400.pt\n",
      "Epoch 405\tTrain Loss: 0.008298133113086132\tTest MRR: 0.25203126649529556\tTest Recall@10: 0.4929363181916975\tElapsed time: 8.090540409088135\n",
      "Epoch 410\tTrain Loss: 0.00819219856974156\tTest MRR: 0.2561042997143801\tTest Recall@10: 0.5032601608346011\tElapsed time: 7.92856240272522\n",
      "saving checkpoint to /raid/home/myang349/recsys-filterbubbles/checkpoints/lstm_checkpoint_epoch410.pt\n",
      "Epoch 415\tTrain Loss: 0.008174912052380953\tTest MRR: 0.2566197291264691\tTest Recall@10: 0.5029341447511411\tElapsed time: 8.4488046169281\n",
      "Epoch 420\tTrain Loss: 0.008116247391584511\tTest MRR: 0.2557017522134726\tTest Recall@10: 0.5029341447511411\tElapsed time: 8.134448051452637\n",
      "saving checkpoint to /raid/home/myang349/recsys-filterbubbles/checkpoints/lstm_checkpoint_epoch420.pt\n",
      "Epoch 425\tTrain Loss: 0.008075553810097889\tTest MRR: 0.25601782173770393\tTest Recall@10: 0.5031514888067812\tElapsed time: 6.616563558578491\n",
      "Epoch 430\tTrain Loss: 0.0080273144668447\tTest MRR: 0.25733724765196186\tTest Recall@10: 0.5054336013910019\tElapsed time: 7.89542555809021\n",
      "saving checkpoint to /raid/home/myang349/recsys-filterbubbles/checkpoints/lstm_checkpoint_epoch430.pt\n",
      "Epoch 435\tTrain Loss: 0.008078189174300402\tTest MRR: 0.25851219776257034\tTest Recall@10: 0.5039121930015215\tElapsed time: 7.5054707527160645\n",
      "Epoch 440\tTrain Loss: 0.008078728516284816\tTest MRR: 0.25516693686073977\tTest Recall@10: 0.5032601608346011\tElapsed time: 7.993707180023193\n",
      "saving checkpoint to /raid/home/myang349/recsys-filterbubbles/checkpoints/lstm_checkpoint_epoch440.pt\n",
      "Epoch 445\tTrain Loss: 0.007989332567074405\tTest MRR: 0.2594108514003691\tTest Recall@10: 0.5058682895022821\tElapsed time: 9.298670053482056\n",
      "Epoch 450\tTrain Loss: 0.00805069376392692\tTest MRR: 0.25793354205147173\tTest Recall@10: 0.5059769615301022\tElapsed time: 8.175218343734741\n",
      "saving checkpoint to /raid/home/myang349/recsys-filterbubbles/checkpoints/lstm_checkpoint_epoch450.pt\n",
      "Epoch 455\tTrain Loss: 0.007965289745828712\tTest MRR: 0.26018149031908877\tTest Recall@10: 0.508476418169963\tElapsed time: 8.258901357650757\n",
      "Epoch 460\tTrain Loss: 0.007929025159155625\tTest MRR: 0.26021516176682524\tTest Recall@10: 0.5080417300586829\tElapsed time: 8.395207643508911\n",
      "saving checkpoint to /raid/home/myang349/recsys-filterbubbles/checkpoints/lstm_checkpoint_epoch460.pt\n",
      "Epoch 465\tTrain Loss: 0.00792086488089878\tTest MRR: 0.255317571414915\tTest Recall@10: 0.5046728971962616\tElapsed time: 7.668461799621582\n",
      "Epoch 470\tTrain Loss: 0.007934708081984817\tTest MRR: 0.2579521681123444\tTest Recall@10: 0.505324929363182\tElapsed time: 8.14926028251648\n",
      "saving checkpoint to /raid/home/myang349/recsys-filterbubbles/checkpoints/lstm_checkpoint_epoch470.pt\n",
      "Epoch 475\tTrain Loss: 0.007860936043652038\tTest MRR: 0.2580202835373983\tTest Recall@10: 0.5072810258639426\tElapsed time: 8.353602170944214\n",
      "Epoch 480\tTrain Loss: 0.007833346220822008\tTest MRR: 0.2591549248868327\tTest Recall@10: 0.5071723538361226\tElapsed time: 8.251644372940063\n",
      "saving checkpoint to /raid/home/myang349/recsys-filterbubbles/checkpoints/lstm_checkpoint_epoch480.pt\n",
      "Epoch 485\tTrain Loss: 0.00781191873377193\tTest MRR: 0.25795836090180974\tTest Recall@10: 0.5039121930015215\tElapsed time: 8.250468492507935\n",
      "Epoch 490\tTrain Loss: 0.007788528428396259\tTest MRR: 0.25873837860221316\tTest Recall@10: 0.5090197783090632\tElapsed time: 8.615394830703735\n",
      "saving checkpoint to /raid/home/myang349/recsys-filterbubbles/checkpoints/lstm_checkpoint_epoch490.pt\n",
      "Epoch 495\tTrain Loss: 0.007787904548900023\tTest MRR: 0.2589039713814499\tTest Recall@10: 0.5099978265594436\tElapsed time: 7.393618583679199\n",
      "Epoch 500\tTrain Loss: 0.0077501079741846834\tTest MRR: 0.25905633278170487\tTest Recall@10: 0.5098891545316235\tElapsed time: 7.215406656265259\n",
      "saving checkpoint to /raid/home/myang349/recsys-filterbubbles/checkpoints/lstm_checkpoint_epoch500.pt\n",
      "Epoch 505\tTrain Loss: 0.007846512732224843\tTest MRR: 0.25610393437513435\tTest Recall@10: 0.5051075853075419\tElapsed time: 8.437733173370361\n",
      "Epoch 510\tTrain Loss: 0.007776345647589264\tTest MRR: 0.25868223689230835\tTest Recall@10: 0.5049989132797218\tElapsed time: 9.022768497467041\n",
      "saving checkpoint to /raid/home/myang349/recsys-filterbubbles/checkpoints/lstm_checkpoint_epoch510.pt\n",
      "Epoch 515\tTrain Loss: 0.007726350801894421\tTest MRR: 0.261078853822258\tTest Recall@10: 0.505324929363182\tElapsed time: 8.539884328842163\n",
      "Epoch 520\tTrain Loss: 0.007703696967127528\tTest MRR: 0.25939901672266585\tTest Recall@10: 0.5123886111714845\tElapsed time: 9.335227489471436\n",
      "saving checkpoint to /raid/home/myang349/recsys-filterbubbles/checkpoints/lstm_checkpoint_epoch520.pt\n",
      "Epoch 525\tTrain Loss: 0.007726777269429112\tTest MRR: 0.2597784747549704\tTest Recall@10: 0.5124972831993045\tElapsed time: 8.04552412033081\n",
      "Epoch 530\tTrain Loss: 0.00778078300728914\tTest MRR: 0.2588977694029002\tTest Recall@10: 0.5099978265594436\tElapsed time: 8.098393201828003\n",
      "saving checkpoint to /raid/home/myang349/recsys-filterbubbles/checkpoints/lstm_checkpoint_epoch530.pt\n",
      "Epoch 535\tTrain Loss: 0.0076626881698066245\tTest MRR: 0.2610959209590095\tTest Recall@10: 0.5129319713105847\tElapsed time: 8.578240871429443\n",
      "Epoch 540\tTrain Loss: 0.007644666540567815\tTest MRR: 0.2608643447658353\tTest Recall@10: 0.5142360356444251\tElapsed time: 8.438133001327515\n",
      "saving checkpoint to /raid/home/myang349/recsys-filterbubbles/checkpoints/lstm_checkpoint_epoch540.pt\n",
      "Epoch 545\tTrain Loss: 0.0077504883285930675\tTest MRR: 0.25854327897993873\tTest Recall@10: 0.5115192349489242\tElapsed time: 7.964151859283447\n",
      "Epoch 550\tTrain Loss: 0.007665205318009591\tTest MRR: 0.25920134411011353\tTest Recall@10: 0.5118452510323843\tElapsed time: 8.616530895233154\n",
      "saving checkpoint to /raid/home/myang349/recsys-filterbubbles/checkpoints/lstm_checkpoint_epoch550.pt\n",
      "Epoch 555\tTrain Loss: 0.007621665189527937\tTest MRR: 0.26034515630854643\tTest Recall@10: 0.5154314279504456\tElapsed time: 8.556604862213135\n",
      "Epoch 560\tTrain Loss: 0.007672890172574401\tTest MRR: 0.25834667451778004\tTest Recall@10: 0.5133666594218648\tElapsed time: 8.271451950073242\n",
      "saving checkpoint to /raid/home/myang349/recsys-filterbubbles/checkpoints/lstm_checkpoint_epoch560.pt\n",
      "Epoch 565\tTrain Loss: 0.007584941860639384\tTest MRR: 0.26210339005678435\tTest Recall@10: 0.5179308845903065\tElapsed time: 7.224032163619995\n",
      "Epoch 570\tTrain Loss: 0.007551496697865672\tTest MRR: 0.2622715360894412\tTest Recall@10: 0.5152140838948055\tElapsed time: 8.375237703323364\n",
      "saving checkpoint to /raid/home/myang349/recsys-filterbubbles/checkpoints/lstm_checkpoint_epoch570.pt\n",
      "Epoch 575\tTrain Loss: 0.007545892822890409\tTest MRR: 0.25899819310008665\tTest Recall@10: 0.514018691588785\tElapsed time: 8.067749977111816\n",
      "Epoch 580\tTrain Loss: 0.007531955502344229\tTest MRR: 0.26067701438581775\tTest Recall@10: 0.516518148228646\tElapsed time: 7.9013330936431885\n",
      "saving checkpoint to /raid/home/myang349/recsys-filterbubbles/checkpoints/lstm_checkpoint_epoch580.pt\n",
      "Epoch 585\tTrain Loss: 0.007508603148052189\tTest MRR: 0.26045765647670777\tTest Recall@10: 0.5157574440339057\tElapsed time: 8.617237567901611\n"
     ]
    }
   ],
   "source": [
    "model = train_model()"
   ]
  },
  {
   "cell_type": "markdown",
   "id": "67b7cefe-bb27-4c4d-aa8f-ebe692a1eb40",
   "metadata": {
    "tags": []
   },
   "source": [
    "# Experimentation"
   ]
  },
  {
   "cell_type": "markdown",
   "id": "0b3259c5-9d7b-4b76-a59c-1b1a4f38fa7c",
   "metadata": {},
   "source": [
    "## Verify the recall"
   ]
  },
  {
   "cell_type": "code",
   "execution_count": 9,
   "id": "117b69c6-644b-498b-bebf-9af26adc8cf1",
   "metadata": {},
   "outputs": [],
   "source": [
    "# Generate sequences and gt\n",
    "sequences = [pt[0] for pt in valid_data]\n",
    "# sequences = [list(reversed(pt[0]))[:10] for pt in valid_data]\n",
    "gt = [pt[1] for pt in valid_data]"
   ]
  },
  {
   "cell_type": "code",
   "execution_count": 10,
   "id": "ba2e1f5c-5ce6-4a9f-9bea-4cba9aef9020",
   "metadata": {},
   "outputs": [],
   "source": [
    "# Generate predictions\n",
    "predictions = get_topk_predictions(model, sequences, k=50)"
   ]
  },
  {
   "cell_type": "code",
   "execution_count": 11,
   "id": "a63b5581-62dd-42cb-af6b-0b62d6d713cc",
   "metadata": {},
   "outputs": [
    {
     "data": {
      "text/plain": [
       "0.7622256031297544"
      ]
     },
     "execution_count": 11,
     "metadata": {},
     "output_type": "execute_result"
    }
   ],
   "source": [
    "assert len(sequences) == len(predictions)\n",
    "hit = 0\n",
    "total = 0\n",
    "for i, val in enumerate(gt):\n",
    "    if val in predictions[i]:\n",
    "        hit += 1\n",
    "    total += 1  \n",
    "hit/total"
   ]
  },
  {
   "cell_type": "markdown",
   "id": "716768a9-6d50-4edf-823a-a34334e77d35",
   "metadata": {},
   "source": [
    "## Computing community vectors"
   ]
  },
  {
   "cell_type": "code",
   "execution_count": 12,
   "id": "e01d78bd-f62f-46b2-bd95-d9302d8e4738",
   "metadata": {},
   "outputs": [],
   "source": [
    "community_dict = load_community_dict(os.path.join(SAVE_FOLDER, SAVE_COMMUNITY_NAME))"
   ]
  },
  {
   "cell_type": "code",
   "execution_count": 13,
   "id": "e73ea5de-d724-42dc-b132-1eed33df767b",
   "metadata": {},
   "outputs": [],
   "source": [
    "# # Converting prev and predictions to be equal length and in community embedding\n",
    "# prev_comm = []\n",
    "# pred_comm = []\n",
    "# for i in range(len(sequences)):\n",
    "#     prev = sequences[i]\n",
    "#     n = len([x for x in prev if x != 0])\n",
    "#     pred = predictions[i][:n]\n",
    "    \n",
    "#     prev_comm.append(get_communities(prev, community_dict))\n",
    "#     pred_comm.append(get_communities(pred, community_dict))"
   ]
  },
  {
   "cell_type": "code",
   "execution_count": 14,
   "id": "5fe63da5-b509-4118-a2a7-7e14acaa6cd3",
   "metadata": {},
   "outputs": [],
   "source": [
    "LOOKBACK = 10\n",
    "THRESHOLD = 10\n",
    "\n",
    "# Alternate version where we just get the last lookback from prev\n",
    "prev_comm = []\n",
    "pred_comm = []\n",
    "for i in range(len(sequences)):\n",
    "    prev = list(reversed(sequences[i]))[:LOOKBACK]\n",
    "    n = len([x for x in prev if x != 0])\n",
    "    \n",
    "    if n < THRESHOLD:\n",
    "        continue\n",
    "        \n",
    "    pred = predictions[i][:n]\n",
    "    prev_comm.append(get_communities(prev, community_dict))\n",
    "    pred_comm.append(get_communities(pred, community_dict))"
   ]
  },
  {
   "cell_type": "code",
   "execution_count": 15,
   "id": "20f1d583-02ba-4a6b-b613-b9f5afad3562",
   "metadata": {},
   "outputs": [],
   "source": [
    "for i in range(100):\n",
    "    assert len(prev_comm[i]) ==len(pred_comm[i])"
   ]
  },
  {
   "cell_type": "code",
   "execution_count": 16,
   "id": "ce0dd1d2-85e8-47ee-b199-36a0e19ea7a6",
   "metadata": {},
   "outputs": [],
   "source": [
    "hm_hist = defaultdict(lambda: Info(0,0))\n",
    "hm_pred = defaultdict(lambda: Info(0,0))"
   ]
  },
  {
   "cell_type": "code",
   "execution_count": 17,
   "id": "a436367f-c736-4aae-8097-4850647b73c1",
   "metadata": {},
   "outputs": [],
   "source": [
    "prev_num_comm = 0\n",
    "pred_num_comm = 0\n",
    "n = len(prev_comm)\n",
    "threshold = 0\n",
    "\n",
    "for i in range(n):\n",
    "    if len(prev_comm[i]) < threshold:\n",
    "        continue\n",
    "    prev_num_comm += len(set(prev_comm[i]))\n",
    "    pred_num_comm += len(set(pred_comm[i]))"
   ]
  },
  {
   "cell_type": "code",
   "execution_count": 18,
   "id": "596dcc91-bcca-46d8-8e93-f527fc1261ac",
   "metadata": {},
   "outputs": [
    {
     "data": {
      "text/plain": [
       "16524"
      ]
     },
     "execution_count": 18,
     "metadata": {},
     "output_type": "execute_result"
    }
   ],
   "source": [
    "prev_num_comm"
   ]
  },
  {
   "cell_type": "code",
   "execution_count": 19,
   "id": "4177ffc2-1943-4533-a9d3-60c0fc331434",
   "metadata": {},
   "outputs": [
    {
     "data": {
      "text/plain": [
       "16614"
      ]
     },
     "execution_count": 19,
     "metadata": {},
     "output_type": "execute_result"
    }
   ],
   "source": [
    "pred_num_comm"
   ]
  },
  {
   "cell_type": "markdown",
   "id": "7dc8ad41-e20c-4780-b3bf-16cd546d5a5d",
   "metadata": {},
   "source": [
    "# Analyzing recommendation distribution"
   ]
  },
  {
   "cell_type": "markdown",
   "id": "f0b4a272-5a41-4787-b902-135d8651ab5a",
   "metadata": {},
   "source": [
    "## Quantifying Diversity Based on Watch History vs Recommendation"
   ]
  },
  {
   "cell_type": "code",
   "execution_count": 24,
   "id": "76488ea6-e688-4a8c-8c32-1532da0f6f2c",
   "metadata": {},
   "outputs": [],
   "source": [
    "def f(c):\n",
    "    return len(set(c))\n",
    "    \n",
    "def f(c):\n",
    "    hm = Counter(c)\n",
    "    for val in hm.values():\n",
    "        if val >= 0.9 * len(c):\n",
    "            return 1\n",
    "    return 0"
   ]
  },
  {
   "cell_type": "code",
   "execution_count": 25,
   "id": "ba195002-6c81-4f8d-bf99-3a9e3e20a1c2",
   "metadata": {},
   "outputs": [],
   "source": [
    "prev_comm_stats = []\n",
    "pred_comm_stats = []\n",
    "n = len(prev_comm)\n",
    "threshold = 0\n",
    "\n",
    "for i in range(n):\n",
    "    c1, c2 = prev_comm[i], pred_comm[i]\n",
    "    if len(c1) < threshold:\n",
    "        continue\n",
    "    prev_comm_stats.append(f(c1))\n",
    "    pred_comm_stats.append(f(c2))"
   ]
  },
  {
   "cell_type": "code",
   "execution_count": 26,
   "id": "ee0ec6f6-4fe5-4af9-9aab-a2341f24147f",
   "metadata": {},
   "outputs": [
    {
     "data": {
      "text/plain": [
       "4947"
      ]
     },
     "execution_count": 26,
     "metadata": {},
     "output_type": "execute_result"
    }
   ],
   "source": [
    "sum(prev_comm_stats)"
   ]
  },
  {
   "cell_type": "code",
   "execution_count": 27,
   "id": "b47d13c5-f7fc-4196-843c-97e88df76874",
   "metadata": {},
   "outputs": [
    {
     "data": {
      "text/plain": [
       "5394"
      ]
     },
     "execution_count": 27,
     "metadata": {},
     "output_type": "execute_result"
    }
   ],
   "source": [
    "sum(pred_comm_stats)"
   ]
  },
  {
   "cell_type": "markdown",
   "id": "cb385a6d-d536-4354-966a-d6f85114b106",
   "metadata": {},
   "source": [
    "# Quantifying Filter-Bubble Based on Combination of Watch History + Recommendation"
   ]
  },
  {
   "cell_type": "markdown",
   "id": "145c223a-377f-4b89-bcbe-b5775bc2f375",
   "metadata": {},
   "source": [
    "## Quantify Functions"
   ]
  },
  {
   "cell_type": "code",
   "execution_count": 28,
   "id": "b4fa4886-2271-418a-8eeb-d699daaf0e35",
   "metadata": {},
   "outputs": [],
   "source": [
    "# Does one of the top 3 predictions belong in a community in the previous history?\n",
    "def f(prev, pred, threshold=3):\n",
    "    for comm in pred[:threshold]:\n",
    "        if comm in prev:\n",
    "            return 1\n",
    "    return 0\n",
    "\n",
    "# Does one of the top-threshold belong in the majority community in the previous history?\n",
    "def f(prev, pred, threshold=3):\n",
    "    hm = Counter(prev)\n",
    "    most_common = max(hm.keys(), key=hm.get)\n",
    "    \n",
    "    for comm in pred[:threshold]:\n",
    "        if comm == most_common:\n",
    "            return 1\n",
    "    return 0\n",
    "\n",
    "# What % of the top-threshold belongs in the most common community in the previous history\n",
    "def f(prev, pred, threshold=10):\n",
    "    hm = Counter(prev)\n",
    "    most_common = max(hm.keys(), key=hm.get)\n",
    "    \n",
    "    count = 0\n",
    "    for comm in pred[:threshold]:\n",
    "        if comm == most_common:\n",
    "            count += 1\n",
    "    return count / threshold"
   ]
  },
  {
   "cell_type": "code",
   "execution_count": 30,
   "id": "2f8fcec2-1045-4951-bc5b-8cc1c8c6241f",
   "metadata": {},
   "outputs": [],
   "source": [
    "# What percentage of the top-threshold predictions belong in a community in the previous history?\n",
    "def f(prev, pred, threshold=5):\n",
    "    count = 0\n",
    "    for comm in pred[:threshold]:\n",
    "        if comm in prev:\n",
    "            count += 1\n",
    "    return count / threshold\n",
    "\n",
    "# What percentage of the top-threshold predictions belong in the communities of the last threshold-items in the history?\n",
    "def f(prev, pred, threshold=10):\n",
    "    count = 0\n",
    "    for comm in pred[:threshold]:\n",
    "        if comm in list(reversed(prev))[:threshold]:\n",
    "            count += 1\n",
    "    return count / threshold"
   ]
  },
  {
   "cell_type": "markdown",
   "id": "85b1e4e1-230b-4632-9ba5-c2a670d8eef1",
   "metadata": {},
   "source": [
    "## Filter functions"
   ]
  },
  {
   "cell_type": "code",
   "execution_count": 460,
   "id": "8e3dc80b-5f03-4ec3-876a-ffda7451c0f4",
   "metadata": {},
   "outputs": [],
   "source": [
    "def filter(c):\n",
    "    hm = Counter(c)\n",
    "    for val in hm.values():\n",
    "        if val >= 0.9 * len(c):\n",
    "            return True\n",
    "    return False"
   ]
  },
  {
   "cell_type": "markdown",
   "id": "28dd2f05-e974-48c9-b2f9-a6cbb00b46bd",
   "metadata": {},
   "source": [
    "## This cell actually computes values"
   ]
  },
  {
   "cell_type": "code",
   "execution_count": 31,
   "id": "7c2787e0-2f59-45bb-97f4-d6f7065f2593",
   "metadata": {},
   "outputs": [],
   "source": [
    "counts = []\n",
    "n = len(prev_comm)\n",
    "threshold = 0\n",
    "\n",
    "for i in range(n):\n",
    "    c1, c2 = prev_comm[i], pred_comm[i]\n",
    "#     if not filter(c1):\n",
    "#         continue\n",
    "    if len(c1) < threshold:\n",
    "        continue\n",
    "    counts.append(f(c1,c2))"
   ]
  },
  {
   "cell_type": "code",
   "execution_count": 32,
   "id": "5ea3ceb7-fd13-460a-9428-2ded5ce4529b",
   "metadata": {},
   "outputs": [
    {
     "data": {
      "text/plain": [
       "0.9367967332123275"
      ]
     },
     "execution_count": 32,
     "metadata": {},
     "output_type": "execute_result"
    }
   ],
   "source": [
    "sum(counts)/len(counts)"
   ]
  },
  {
   "cell_type": "code",
   "execution_count": 33,
   "id": "143672b4-eb1e-4f44-8882-c6c3009eeb42",
   "metadata": {},
   "outputs": [
    {
     "data": {
      "text/plain": [
       "0.9367967332123275"
      ]
     },
     "execution_count": 33,
     "metadata": {},
     "output_type": "execute_result"
    }
   ],
   "source": [
    "sum(counts)/len(counts)"
   ]
  },
  {
   "cell_type": "code",
   "execution_count": 1,
   "id": "5c2de0b8-56b0-4e58-ab76-b78f96a066fd",
   "metadata": {},
   "outputs": [
    {
     "ename": "NameError",
     "evalue": "name 'train' is not defined",
     "output_type": "error",
     "traceback": [
      "\u001b[0;31m---------------------------------------------------------------------------\u001b[0m",
      "\u001b[0;31mNameError\u001b[0m                                 Traceback (most recent call last)",
      "\u001b[0;32m/tmp/ipykernel_909950/973257664.py\u001b[0m in \u001b[0;36m<module>\u001b[0;34m\u001b[0m\n\u001b[0;32m----> 1\u001b[0;31m \u001b[0mtrain\u001b[0m\u001b[0;34m\u001b[0m\u001b[0;34m\u001b[0m\u001b[0m\n\u001b[0m",
      "\u001b[0;31mNameError\u001b[0m: name 'train' is not defined"
     ]
    }
   ],
   "source": [
    "train"
   ]
  },
  {
   "cell_type": "code",
   "execution_count": 10,
   "id": "616f159c-0902-4e06-9bfb-0c143713424c",
   "metadata": {},
   "outputs": [
    {
     "name": "stderr",
     "output_type": "stream",
     "text": [
      "/tmp/ipykernel_909950/2346561254.py:1: VisibleDeprecationWarning: Creating an ndarray from ragged nested sequences (which is a list-or-tuple of lists-or-tuples-or ndarrays with different lengths or shapes) is deprecated. If you meant to do this, you must specify 'dtype=object' when creating the ndarray\n",
      "  np.array(train_data[:5])\n"
     ]
    },
    {
     "data": {
      "text/plain": [
       "array([[list([0, 0, 0, 0, 0, 0, 0, 0, 0, 0, 0, 0, 0, 0, 0, 0, 0, 0, 0, 0, 0, 0, 0, 0, 0, 0, 0, 0, 0, 0, 0, 0, 0, 0, 0, 0, 0, 0, 0, 0, 0, 0, 0, 0, 0, 0, 0, 0, 0]),\n",
       "        1],\n",
       "       [list([0, 0, 0, 0, 0, 0, 0, 0, 0, 0, 0, 0, 0, 0, 0, 0, 0, 0, 0, 0, 0, 0, 0, 0, 0, 0, 0, 0, 0, 0, 0, 0, 0, 0, 0, 0, 0, 0, 0, 0, 0, 0, 0, 0, 0, 0, 0, 0, 1]),\n",
       "        2],\n",
       "       [list([0, 0, 0, 0, 0, 0, 0, 0, 0, 0, 0, 0, 0, 0, 0, 0, 0, 0, 0, 0, 0, 0, 0, 0, 0, 0, 0, 0, 0, 0, 0, 0, 0, 0, 0, 0, 0, 0, 0, 0, 0, 0, 0, 0, 0, 0, 0, 1, 2]),\n",
       "        2],\n",
       "       [list([0, 0, 0, 0, 0, 0, 0, 0, 0, 0, 0, 0, 0, 0, 0, 0, 0, 0, 0, 0, 0, 0, 0, 0, 0, 0, 0, 0, 0, 0, 0, 0, 0, 0, 0, 0, 0, 0, 0, 0, 0, 0, 0, 0, 0, 0, 1, 2, 2]),\n",
       "        3],\n",
       "       [list([0, 0, 0, 0, 0, 0, 0, 0, 0, 0, 0, 0, 0, 0, 0, 0, 0, 0, 0, 0, 0, 0, 0, 0, 0, 0, 0, 0, 0, 0, 0, 0, 0, 0, 0, 0, 0, 0, 0, 0, 0, 0, 0, 0, 0, 1, 2, 2, 3]),\n",
       "        4]], dtype=object)"
      ]
     },
     "execution_count": 10,
     "metadata": {},
     "output_type": "execute_result"
    }
   ],
   "source": [
    "np.array(train_data[:5])"
   ]
  },
  {
   "cell_type": "code",
   "execution_count": null,
   "id": "be667a5e-cd9e-4d3e-ad17-c9904a15ed94",
   "metadata": {},
   "outputs": [],
   "source": []
  },
  {
   "cell_type": "code",
   "execution_count": null,
   "id": "0d8b4a96-f72e-4975-b984-d2d7049de15e",
   "metadata": {},
   "outputs": [],
   "source": [
    "1 -> 1\n",
    "12 -> 2\n",
    "122 -> 3\n",
    "1223 -> 4"
   ]
  },
  {
   "cell_type": "code",
   "execution_count": null,
   "id": "1b3710ae-8648-4141-8c1d-3a64bcc1ff1a",
   "metadata": {},
   "outputs": [],
   "source": [
    "valid_data"
   ]
  },
  {
   "cell_type": "code",
   "execution_count": null,
   "id": "42ad79a2-2e69-4c0c-929f-449be7347482",
   "metadata": {},
   "outputs": [],
   "source": []
  }
 ],
 "metadata": {
  "kernelspec": {
   "display_name": "cse_v1",
   "language": "python",
   "name": "cse_v1"
  },
  "language_info": {
   "codemirror_mode": {
    "name": "ipython",
    "version": 3
   },
   "file_extension": ".py",
   "mimetype": "text/x-python",
   "name": "python",
   "nbconvert_exporter": "python",
   "pygments_lexer": "ipython3",
   "version": "3.9.7"
  }
 },
 "nbformat": 4,
 "nbformat_minor": 5
}
