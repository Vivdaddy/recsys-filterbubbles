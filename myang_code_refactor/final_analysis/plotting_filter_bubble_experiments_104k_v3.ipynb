{
 "cells": [
  {
   "cell_type": "code",
   "execution_count": 1,
   "id": "70da6389-9a23-45e7-9efa-d83fc854abb9",
   "metadata": {},
   "outputs": [],
   "source": [
    "%load_ext autoreload"
   ]
  },
  {
   "cell_type": "code",
   "execution_count": 2,
   "id": "1b5f6d80-0a74-44ee-8165-b62787de921d",
   "metadata": {},
   "outputs": [],
   "source": [
    "%autoreload 2"
   ]
  },
  {
   "cell_type": "code",
   "execution_count": 3,
   "id": "69f57cd7-0a34-4659-af6d-b3caced06895",
   "metadata": {},
   "outputs": [
    {
     "name": "stdout",
     "output_type": "stream",
     "text": [
      "/raid/home/myang349/recsys-filterbubbles\n"
     ]
    }
   ],
   "source": [
    "cd /raid/home/myang349/recsys-filterbubbles/"
   ]
  },
  {
   "cell_type": "markdown",
   "id": "a4ea183d-dc55-4198-bdfb-51b52282cfb5",
   "metadata": {
    "tags": []
   },
   "source": [
    "# Imports"
   ]
  },
  {
   "cell_type": "code",
   "execution_count": 153,
   "id": "f6cda501-8f39-4917-b693-4d4ac98bb1b9",
   "metadata": {},
   "outputs": [],
   "source": [
    "import torch\n",
    "import torch.nn as nn\n",
    "import torch.nn.functional as F\n",
    "import os\n",
    "import torch.optim as optim\n",
    "from os import listdir\n",
    "from os.path import isfile, join\n",
    "from tracin.tracin import (\n",
    "    save_tracin_checkpoint,\n",
    "    load_tracin_checkpoint,\n",
    "    calculate_tracin_influence,\n",
    ")\n",
    "import pandas as pd\n",
    "from LSTM_clean.utils import filter_and_split_data, sequence_generator, load_community_dict, get_communities, shannon_index, gini_simpson_index, num_unique\n",
    "from LSTM_clean.model import LSTM \n",
    "from collections import Counter\n",
    "import numpy as np\n",
    "import pickle\n",
    "from collections import defaultdict\n",
    "import copy\n",
    "from torch.optim import SGD\n",
    "from lstm_wrapper import train_model, get_topk_predictions\n",
    "from dataclasses import dataclass\n",
    "import matplotlib.pyplot as plt\n",
    "from copy import deepcopy\n",
    "import math\n",
    "import seaborn as sns\n",
    "sns.set(style='darkgrid')"
   ]
  },
  {
   "cell_type": "markdown",
   "id": "1b3c4acb-300f-419e-ac3c-497a6cda175c",
   "metadata": {},
   "source": [
    "# Loading Data"
   ]
  },
  {
   "cell_type": "code",
   "execution_count": 5,
   "id": "952f56b9-ff9c-47a9-8214-60a86c291ca2",
   "metadata": {},
   "outputs": [],
   "source": [
    "# Data Location\n",
    "# Use SAVE_PREFIX to mark different datasets\n",
    "SAVE_PREFIX = \"104k\"\n",
    "SAVE_FOLDER = \"/raid/home/myang349/recsys-filterbubbles/data/twitch_sequence/\"\n",
    "SAVE_TRAIN_NAME = SAVE_PREFIX + \"train.data\"\n",
    "SAVE_VALID_NAME = SAVE_PREFIX + \"valid.data\"\n",
    "SAVE_TEST_NAME = SAVE_PREFIX + \"test.data\"\n",
    "SAVE_COMMUNITY_NAME = SAVE_PREFIX + \"lstm_idx_communities.data\""
   ]
  },
  {
   "cell_type": "code",
   "execution_count": 6,
   "id": "9374a04b-0e03-441b-b0cd-a8ea651bf954",
   "metadata": {},
   "outputs": [],
   "source": [
    "train_data = np.load(os.path.join(SAVE_FOLDER, SAVE_TRAIN_NAME), allow_pickle=True)\n",
    "valid_data = np.load(os.path.join(SAVE_FOLDER, SAVE_VALID_NAME), allow_pickle=True)\n",
    "test_data = np.load(os.path.join(SAVE_FOLDER, SAVE_TEST_NAME), allow_pickle=True)"
   ]
  },
  {
   "cell_type": "markdown",
   "id": "cac87f8b-02b1-4680-ad33-94ab15896c9d",
   "metadata": {},
   "source": [
    "# Loading model"
   ]
  },
  {
   "cell_type": "code",
   "execution_count": 7,
   "id": "454be3f5-0dbf-47fd-8911-0b1d9f4d1999",
   "metadata": {},
   "outputs": [
    {
     "name": "stdout",
     "output_type": "stream",
     "text": [
      "Device is cuda\n"
     ]
    }
   ],
   "source": [
    "# model = train_model()\n",
    "\n",
    "# Init\n",
    "device = torch.device(\"cuda\" if torch.cuda.is_available() else \"cpu\")\n",
    "print(\"Device is\", device)\n",
    "model = LSTM(input_size=128, output_size=3312, hidden_dim=64, n_layers=1, device=device) \n",
    "model.LSTM.flatten_parameters()\n",
    "optimizer = optim.SGD(model.parameters(), lr=5e-2, momentum=0.9)\n",
    "\n",
    "# Loading\n",
    "model, _, epoch, loss = load_tracin_checkpoint(model, optimizer, \"/raid/home/myang349/recsys-filterbubbles/checkpoints/lstm_checkpoint_epoch600.pt\")"
   ]
  },
  {
   "cell_type": "code",
   "execution_count": 8,
   "id": "b8a25bd0-080b-4e4e-8c5d-69dba80a8036",
   "metadata": {},
   "outputs": [
    {
     "data": {
      "text/plain": [
       "LSTM(\n",
       "  (item_emb): Embedding(3312, 128, padding_idx=0)\n",
       "  (LSTM): LSTM(128, 64, batch_first=True)\n",
       "  (fc): Linear(in_features=64, out_features=3312, bias=True)\n",
       ")"
      ]
     },
     "execution_count": 8,
     "metadata": {},
     "output_type": "execute_result"
    }
   ],
   "source": [
    "model.to(device)"
   ]
  },
  {
   "cell_type": "markdown",
   "id": "0b3259c5-9d7b-4b76-a59c-1b1a4f38fa7c",
   "metadata": {
    "tags": []
   },
   "source": [
    "## Verify the recall"
   ]
  },
  {
   "cell_type": "code",
   "execution_count": 9,
   "id": "117b69c6-644b-498b-bebf-9af26adc8cf1",
   "metadata": {},
   "outputs": [],
   "source": [
    "# Generate sequences and gt\n",
    "sequences = [pt[0] for pt in valid_data]\n",
    "# sequences = [list(reversed(pt[0]))[:10] for pt in valid_data]\n",
    "gt = [pt[1] for pt in valid_data]"
   ]
  },
  {
   "cell_type": "code",
   "execution_count": 10,
   "id": "ba2e1f5c-5ce6-4a9f-9bea-4cba9aef9020",
   "metadata": {},
   "outputs": [
    {
     "ename": "RuntimeError",
     "evalue": "stack expects each tensor to be equal size, but got [22, 128] at entry 0 and [23, 128] at entry 1",
     "output_type": "error",
     "traceback": [
      "\u001b[0;31m---------------------------------------------------------------------------\u001b[0m",
      "\u001b[0;31mRuntimeError\u001b[0m                              Traceback (most recent call last)",
      "\u001b[0;32m/tmp/ipykernel_1091093/4133960391.py\u001b[0m in \u001b[0;36m<module>\u001b[0;34m\u001b[0m\n\u001b[1;32m      1\u001b[0m \u001b[0;31m# Generate predictions\u001b[0m\u001b[0;34m\u001b[0m\u001b[0;34m\u001b[0m\u001b[0m\n\u001b[0;32m----> 2\u001b[0;31m \u001b[0mpredictions\u001b[0m \u001b[0;34m=\u001b[0m \u001b[0mget_topk_predictions\u001b[0m\u001b[0;34m(\u001b[0m\u001b[0mmodel\u001b[0m\u001b[0;34m,\u001b[0m \u001b[0msequences\u001b[0m\u001b[0;34m,\u001b[0m \u001b[0mk\u001b[0m\u001b[0;34m=\u001b[0m\u001b[0;36m50\u001b[0m\u001b[0;34m)\u001b[0m\u001b[0;34m\u001b[0m\u001b[0;34m\u001b[0m\u001b[0m\n\u001b[0m",
      "\u001b[0;32m/raid/home/myang349/recsys-filterbubbles/lstm_wrapper.py\u001b[0m in \u001b[0;36mget_topk_predictions\u001b[0;34m(model, data, k)\u001b[0m\n\u001b[1;32m     58\u001b[0m     \u001b[0;32mfor\u001b[0m \u001b[0mpt\u001b[0m \u001b[0;32min\u001b[0m \u001b[0mdata\u001b[0m\u001b[0;34m:\u001b[0m\u001b[0;34m\u001b[0m\u001b[0;34m\u001b[0m\u001b[0m\n\u001b[1;32m     59\u001b[0m         \u001b[0membedded_data\u001b[0m\u001b[0;34m.\u001b[0m\u001b[0mappend\u001b[0m\u001b[0;34m(\u001b[0m\u001b[0mmodel\u001b[0m\u001b[0;34m.\u001b[0m\u001b[0mitem_emb\u001b[0m\u001b[0;34m(\u001b[0m\u001b[0mtorch\u001b[0m\u001b[0;34m.\u001b[0m\u001b[0mLongTensor\u001b[0m\u001b[0;34m(\u001b[0m\u001b[0mpt\u001b[0m\u001b[0;34m)\u001b[0m\u001b[0;34m.\u001b[0m\u001b[0mto\u001b[0m\u001b[0;34m(\u001b[0m\u001b[0mmodel\u001b[0m\u001b[0;34m.\u001b[0m\u001b[0mdevice\u001b[0m\u001b[0;34m)\u001b[0m\u001b[0;34m)\u001b[0m\u001b[0;34m)\u001b[0m\u001b[0;34m\u001b[0m\u001b[0;34m\u001b[0m\u001b[0m\n\u001b[0;32m---> 60\u001b[0;31m     \u001b[0membedded_data\u001b[0m \u001b[0;34m=\u001b[0m \u001b[0mtorch\u001b[0m\u001b[0;34m.\u001b[0m\u001b[0mstack\u001b[0m\u001b[0;34m(\u001b[0m\u001b[0membedded_data\u001b[0m\u001b[0;34m,\u001b[0m \u001b[0mdim\u001b[0m\u001b[0;34m=\u001b[0m\u001b[0;36m0\u001b[0m\u001b[0;34m)\u001b[0m\u001b[0;34m.\u001b[0m\u001b[0mdetach\u001b[0m\u001b[0;34m(\u001b[0m\u001b[0;34m)\u001b[0m\u001b[0;34m\u001b[0m\u001b[0;34m\u001b[0m\u001b[0m\n\u001b[0m\u001b[1;32m     61\u001b[0m \u001b[0;34m\u001b[0m\u001b[0m\n\u001b[1;32m     62\u001b[0m     \u001b[0moutput\u001b[0m\u001b[0;34m,\u001b[0m \u001b[0mhidden\u001b[0m \u001b[0;34m=\u001b[0m \u001b[0mmodel\u001b[0m\u001b[0;34m.\u001b[0m\u001b[0mforward\u001b[0m\u001b[0;34m(\u001b[0m\u001b[0membedded_data\u001b[0m\u001b[0;34m)\u001b[0m\u001b[0;34m\u001b[0m\u001b[0;34m\u001b[0m\u001b[0m\n",
      "\u001b[0;31mRuntimeError\u001b[0m: stack expects each tensor to be equal size, but got [22, 128] at entry 0 and [23, 128] at entry 1"
     ]
    }
   ],
   "source": [
    "# Generate predictions\n",
    "predictions = get_topk_predictions(model, sequences, k=50)"
   ]
  },
  {
   "cell_type": "code",
   "execution_count": 11,
   "id": "a63b5581-62dd-42cb-af6b-0b62d6d713cc",
   "metadata": {},
   "outputs": [
    {
     "data": {
      "text/plain": [
       "0.5059769615301022"
      ]
     },
     "execution_count": 11,
     "metadata": {},
     "output_type": "execute_result"
    }
   ],
   "source": [
    "assert len(sequences) == len(predictions)\n",
    "hit = 0\n",
    "total = 0\n",
    "for i, val in enumerate(gt):\n",
    "    if val in predictions[i][:10]:\n",
    "        hit += 1\n",
    "    total += 1  \n",
    "hit/total"
   ]
  },
  {
   "cell_type": "markdown",
   "id": "b929aea2-aae6-423e-b5ca-c7fae89d5d9c",
   "metadata": {},
   "source": [
    "# Analysis Utils"
   ]
  },
  {
   "cell_type": "code",
   "execution_count": 12,
   "id": "9aea04e7-5560-4dd9-989d-78c7df05e0ee",
   "metadata": {},
   "outputs": [],
   "source": [
    "def plot_counts(counts: dict[str, int], title='bla', xlabel='something', ylabel='count') -> plt.Figure:\n",
    "    \"\"\"Plots a histogram from dict\"\"\"\n",
    "    fig = plt.figure()\n",
    "\n",
    "    # Creating the barplot\n",
    "    plt.bar(counts.keys(), counts.values())\n",
    "    plt.xlabel(xlabel)\n",
    "    plt.ylabel(ylabel)\n",
    "    plt.title(title)\n",
    "#     return fig\n",
    "\n",
    "def line_plot(hm):\n",
    "    # line plot\n",
    "    fig = plt.figure()\n",
    "    ax = plt.axes()\n",
    "    ax.plot(sorted(hm.keys()), [hm[x] for x in sorted(hm.keys())])"
   ]
  },
  {
   "cell_type": "markdown",
   "id": "716768a9-6d50-4edf-823a-a34334e77d35",
   "metadata": {},
   "source": [
    "## Computing community vectors"
   ]
  },
  {
   "cell_type": "code",
   "execution_count": 13,
   "id": "e01d78bd-f62f-46b2-bd95-d9302d8e4738",
   "metadata": {},
   "outputs": [],
   "source": [
    "community_dict = load_community_dict(os.path.join(SAVE_FOLDER, SAVE_COMMUNITY_NAME))"
   ]
  },
  {
   "cell_type": "markdown",
   "id": "2cdae767-e32c-4f65-b029-3e7377f4feb4",
   "metadata": {},
   "source": [
    "## Converting prev and predictions to be equal length and in community embedding"
   ]
  },
  {
   "cell_type": "code",
   "execution_count": 14,
   "id": "d17903d5-4315-47bd-98ee-a48675440f66",
   "metadata": {},
   "outputs": [],
   "source": [
    "LOOKBACK = 50\n",
    "THRESHOLD = 0"
   ]
  },
  {
   "cell_type": "code",
   "execution_count": 15,
   "id": "5fe63da5-b509-4118-a2a7-7e14acaa6cd3",
   "metadata": {
    "tags": []
   },
   "outputs": [
    {
     "name": "stdout",
     "output_type": "stream",
     "text": [
      "9202\n",
      "9202\n"
     ]
    }
   ],
   "source": [
    "# Alternate version where we just get the last lookback from prev\n",
    "prev_comm = []\n",
    "pred_comm = []\n",
    "\n",
    "for i in range(len(sequences)):\n",
    "    prev = list(reversed(sequences[i]))[:LOOKBACK]\n",
    "    n = len([x for x in prev if x != 0 and x in community_dict])\n",
    "    \n",
    "    if n < THRESHOLD:\n",
    "        continue\n",
    "        \n",
    "    pred = predictions[i][:n]\n",
    "    prev_comm.append(get_communities(prev, community_dict))\n",
    "    pred_comm.append(get_communities(pred, community_dict))\n",
    "    \n",
    "for i in range(len(prev_comm)):\n",
    "    assert len(prev_comm[i]) ==len(pred_comm[i])\n",
    "    assert THRESHOLD <= len(prev_comm[i]) <= LOOKBACK\n",
    "    \n",
    "print(len(sequences))\n",
    "print(len(prev_comm))"
   ]
  },
  {
   "cell_type": "markdown",
   "id": "f00b8669-7bfb-4341-8796-c6f95adbf89e",
   "metadata": {},
   "source": [
    "# Analysis"
   ]
  },
  {
   "cell_type": "code",
   "execution_count": 17,
   "id": "8256f3e3-5064-4c05-9064-999f73a8b97b",
   "metadata": {},
   "outputs": [],
   "source": [
    "community_counts = Counter(community_dict.values())"
   ]
  },
  {
   "cell_type": "code",
   "execution_count": 18,
   "id": "6c92800b-3546-4632-9851-a3738c89d680",
   "metadata": {},
   "outputs": [
    {
     "data": {
      "image/png": "[encoded data removed]",
      "text/plain": [
       "<Figure size 432x288 with 1 Axes>"
      ]
     },
     "metadata": {
      "needs_background": "light"
     },
     "output_type": "display_data"
    }
   ],
   "source": [
    "plot_counts(community_counts, 'distribution of communities')"
   ]
  },
  {
   "cell_type": "code",
   "execution_count": 20,
   "id": "ed80405b-c032-4d72-aef6-b2fe282c6544",
   "metadata": {},
   "outputs": [
    {
     "name": "stdout",
     "output_type": "stream",
     "text": [
      "defaultdict(<class 'int'>, {13: 331189, 8: 253046, 9: 63591, 2: 41070, 14: 57209, 7: 108220, 6: 66264, 4: 71707, 11: 109750, 3: 28239, 0: 266909, 10: 21840, 1: 11578, 15: 3630, 5: 27141, 12: 8982})\n"
     ]
    }
   ],
   "source": [
    "## Community Items\n",
    "hm = defaultdict(int)\n",
    "for pt in train_data:\n",
    "    seq = pt[0]\n",
    "    hm_comm = Counter(get_communities(seq, community_dict))\n",
    "    for k, v in hm_comm.items():\n",
    "        hm[k] += v\n",
    "print(hm)"
   ]
  },
  {
   "cell_type": "code",
   "execution_count": 21,
   "id": "853a7510-167f-4d33-954d-d7321476551f",
   "metadata": {},
   "outputs": [
    {
     "data": {
      "image/png": "[encoded data removed]",
      "text/plain": [
       "<Figure size 432x288 with 1 Axes>"
      ]
     },
     "metadata": {
      "needs_background": "light"
     },
     "output_type": "display_data"
    }
   ],
   "source": [
    "plot_counts(hm, 'distribution of actual communities in train_data')"
   ]
  },
  {
   "cell_type": "code",
   "execution_count": 30,
   "id": "0922a48f-4c43-4911-8cb4-01ec139a35f1",
   "metadata": {},
   "outputs": [
    {
     "name": "stdout",
     "output_type": "stream",
     "text": [
      "defaultdict(<class 'int'>, {13: 71993, 8: 57095, 9: 14307, 6: 15960, 4: 15467, 2: 9093, 11: 24827, 7: 24195, 3: 6268, 0: 60679, 14: 13008, 10: 4593, 1: 2790, 15: 877, 5: 6232, 12: 2205})\n"
     ]
    },
    {
     "data": {
      "image/png": "[encoded data removed]",
      "text/plain": [
       "<Figure size 432x288 with 1 Axes>"
      ]
     },
     "metadata": {
      "needs_background": "light"
     },
     "output_type": "display_data"
    }
   ],
   "source": [
    "## Community Items\n",
    "hm = defaultdict(int)\n",
    "for pt in valid_data:\n",
    "    seq = pt[0]\n",
    "    hm_comm = Counter(get_communities(seq, community_dict))\n",
    "    for k, v in hm_comm.items():\n",
    "        hm[k] += v\n",
    "print(hm)\n",
    "plot_counts(hm, 'distribution of actual communites in valid_data')"
   ]
  },
  {
   "cell_type": "code",
   "execution_count": 24,
   "id": "b97c6d28-3c43-4b47-bcd4-f7aeab13af41",
   "metadata": {},
   "outputs": [
    {
     "name": "stdout",
     "output_type": "stream",
     "text": [
      "defaultdict(<class 'int'>, {8: 1540, 2: 291, 10: 116, 9: 394, 6: 477, 13: 1888, 0: 1736, 11: 693, 1: 83, 7: 722, 4: 440, 15: 29, 5: 179, 14: 375, 3: 167, 12: 72})\n"
     ]
    },
    {
     "data": {
      "image/png": "[encoded data removed]",
      "text/plain": [
       "<Figure size 432x288 with 1 Axes>"
      ]
     },
     "metadata": {
      "needs_background": "light"
     },
     "output_type": "display_data"
    }
   ],
   "source": [
    "## Community Items\n",
    "hm = defaultdict(int)\n",
    "for seq in predictions:\n",
    "    seq = seq[:1]\n",
    "    hm_comm = Counter(get_communities(seq, community_dict))\n",
    "    for k, v in hm_comm.items():\n",
    "        hm[k] += v\n",
    "print(hm)\n",
    "plot_counts(hm, 'distribution of actual communites in predictions')"
   ]
  },
  {
   "cell_type": "markdown",
   "id": "7dc8ad41-e20c-4780-b3bf-16cd546d5a5d",
   "metadata": {
    "tags": []
   },
   "source": [
    "## Distributions"
   ]
  },
  {
   "cell_type": "code",
   "execution_count": 36,
   "id": "8a5ec01a-a4a9-40ba-b9e2-648fe6eb649a",
   "metadata": {},
   "outputs": [],
   "source": [
    "n = len(prev_comm)\n",
    "watch_history_length_counts = Counter(len(x) for x in prev_comm)\n",
    "counts = {k: watch_history_length_counts[k] for k in sorted(watch_history_length_counts)}\n",
    "assert sum(counts.values()) == n"
   ]
  },
  {
   "cell_type": "code",
   "execution_count": 37,
   "id": "24673ba7-d754-44bf-bfcf-5d20483b08b7",
   "metadata": {},
   "outputs": [
    {
     "data": {
      "image/png": "[encoded data removed]",
      "text/plain": [
       "<Figure size 432x288 with 1 Axes>"
      ]
     },
     "metadata": {
      "needs_background": "light"
     },
     "output_type": "display_data"
    }
   ],
   "source": [
    "plot_counts(counts, 'length of histories')"
   ]
  },
  {
   "cell_type": "code",
   "execution_count": 38,
   "id": "db80d559-1e39-484f-867e-3042c2aa8eb8",
   "metadata": {},
   "outputs": [],
   "source": [
    "prev_unique_comms_by_length = defaultdict(list)\n",
    "pred_unique_comms_by_length = defaultdict(list)"
   ]
  },
  {
   "cell_type": "code",
   "execution_count": 39,
   "id": "09b0cc9b-5099-4588-9ab5-3bb419aaa5cf",
   "metadata": {},
   "outputs": [],
   "source": [
    "# Making sure distribution is the same\n",
    "assert Counter(len(x) for x in pred_comm) == Counter(len(x) for x in prev_comm)"
   ]
  },
  {
   "cell_type": "markdown",
   "id": "f72745fc-5ef4-4caa-940d-484baa167f39",
   "metadata": {},
   "source": [
    "### Plotting Recall @ 10 by length of training data"
   ]
  },
  {
   "cell_type": "code",
   "execution_count": 40,
   "id": "935aaad8-2a4e-4e31-9688-737d7e3b5b99",
   "metadata": {},
   "outputs": [],
   "source": [
    "gt = [pt[1] for pt in valid_data]"
   ]
  },
  {
   "cell_type": "code",
   "execution_count": 42,
   "id": "acf5c7a3-1dc0-4acd-bf13-5f9e3e742545",
   "metadata": {},
   "outputs": [],
   "source": [
    "assert len(gt) == len(prev_comm)"
   ]
  },
  {
   "cell_type": "code",
   "execution_count": 48,
   "id": "c0feb40d-98b9-4283-994c-266f6555b5e8",
   "metadata": {},
   "outputs": [],
   "source": [
    "hm = defaultdict(list)\n",
    "for i in range(n):\n",
    "    curr_len = len(prev_comm[i])\n",
    "    label = gt[i]\n",
    "    if label in predictions[i][:10]:\n",
    "        hm[curr_len].append(1)\n",
    "    else:\n",
    "        hm[curr_len].append(0)\n",
    "for k, v in hm.items():\n",
    "    hm[k] = sum(v) / len(v)"
   ]
  },
  {
   "cell_type": "code",
   "execution_count": 92,
   "id": "3cd47052-70c2-4cf7-821e-8909dad0feb3",
   "metadata": {},
   "outputs": [
    {
     "data": {
      "text/plain": [
       "[<matplotlib.lines.Line2D at 0x7fdf1e78a490>]"
      ]
     },
     "execution_count": 92,
     "metadata": {},
     "output_type": "execute_result"
    },
    {
     "data": {
      "image/png": "[encoded data removed]",
      "text/plain": [
       "<Figure size 432x288 with 1 Axes>"
      ]
     },
     "metadata": {
      "needs_background": "light"
     },
     "output_type": "display_data"
    }
   ],
   "source": [
    "# line plot\n",
    "fig = plt.figure()\n",
    "ax = plt.axes()\n",
    "ax.set_ylim(ymin=0)\n",
    "ax.plot(sorted(hm.keys()), [hm[x] for x in sorted(hm.keys())])"
   ]
  },
  {
   "cell_type": "markdown",
   "id": "47837c18-63a1-4c0a-883b-71463e076725",
   "metadata": {},
   "source": [
    "### Plotting relative diversity of data points by length"
   ]
  },
  {
   "cell_type": "code",
   "execution_count": 135,
   "id": "80e86a52-d6bf-46c4-9a7b-4720aad85718",
   "metadata": {},
   "outputs": [],
   "source": [
    "diversity_metric = gini_simpson_index"
   ]
  },
  {
   "cell_type": "code",
   "execution_count": 284,
   "id": "ee0d8330-3620-4762-89a8-37797c10f26f",
   "metadata": {},
   "outputs": [
    {
     "data": {
      "image/png": "[encoded data removed]",
      "text/plain": [
       "<Figure size 432x288 with 1 Axes>"
      ]
     },
     "metadata": {},
     "output_type": "display_data"
    }
   ],
   "source": [
    "hm = defaultdict(list)\n",
    "\n",
    "for i in range(len(prev_comm)):\n",
    "    c1, c2 = prev_comm[i], pred_comm[i]\n",
    "    for j in range(2, len(c1)):\n",
    "        if diversity_metric(c1[-j:], community_dict) > diversity_metric(c2[:j], community_dict):\n",
    "            hm[j].append(1)\n",
    "        else:\n",
    "            hm[j].append(0)\n",
    "\n",
    "for k in hm:\n",
    "    hm[k] = sum(hm[k]) /  len(hm[k])\n",
    "plot_counts(hm, 'Filter Bubble: Predictions are less diverse')\n",
    "\n",
    "hm_pred_is_less_diverse = hm"
   ]
  },
  {
   "cell_type": "code",
   "execution_count": 141,
   "id": "64514c10-373c-4d2e-bdcf-667b4c9d983c",
   "metadata": {},
   "outputs": [
    {
     "data": {
      "text/plain": [
       "(0.0, 0.39215871071937136)"
      ]
     },
     "execution_count": 141,
     "metadata": {},
     "output_type": "execute_result"
    },
    {
     "data": {
      "image/png": "[encoded data removed]",
      "text/plain": [
       "<Figure size 432x288 with 1 Axes>"
      ]
     },
     "metadata": {
      "needs_background": "light"
     },
     "output_type": "display_data"
    }
   ],
   "source": [
    "x, y = list(hm.keys()), list(hm.values())\n",
    "fig = plt.figure()\n",
    "ax = plt.axes()\n",
    "ax.plot(sorted(x), [hm[i] for i in sorted(x)])\n",
    "ax.set_ylim(ymin=0)"
   ]
  },
  {
   "cell_type": "code",
   "execution_count": 142,
   "id": "f9a64844-32d2-4172-a254-e19a35f7e9ac",
   "metadata": {},
   "outputs": [
    {
     "data": {
      "image/png": "[encoded data removed]",
      "text/plain": [
       "<Figure size 432x288 with 1 Axes>"
      ]
     },
     "metadata": {
      "needs_background": "light"
     },
     "output_type": "display_data"
    }
   ],
   "source": [
    "hm = defaultdict(list)\n",
    "\n",
    "for i in range(len(prev_comm)):\n",
    "    c1, c2 = prev_comm[i], pred_comm[i]\n",
    "    for j in range(2, len(c1)):\n",
    "        if diversity_metric(c1[-j:], community_dict) < diversity_metric(c2[:j], community_dict):\n",
    "            hm[j].append(1)\n",
    "        else:\n",
    "            hm[j].append(0)\n",
    "for k in hm:\n",
    "    hm[k] = sum(hm[k]) /  len(hm[k])\n",
    "plot_counts(hm, 'Predictions are more diverse')\n",
    "\n",
    "hm_pred_is_more_diverse = hm"
   ]
  },
  {
   "cell_type": "code",
   "execution_count": 131,
   "id": "599028d8-0af8-4396-b1f5-1f5a8c428dfb",
   "metadata": {},
   "outputs": [
    {
     "data": {
      "text/plain": [
       "(0.0, 0.6388703455069376)"
      ]
     },
     "execution_count": 131,
     "metadata": {},
     "output_type": "execute_result"
    },
    {
     "data": {
      "image/png": "[encoded data removed]",
      "text/plain": [
       "<Figure size 432x288 with 1 Axes>"
      ]
     },
     "metadata": {
      "needs_background": "light"
     },
     "output_type": "display_data"
    }
   ],
   "source": [
    "x, y = list(hm.keys()), list(hm.values())\n",
    "fig = plt.figure()\n",
    "ax = plt.axes()\n",
    "ax.plot(sorted(x), [hm[i] for i in sorted(x)])\n",
    "ax.set_ylim(ymin=0)"
   ]
  },
  {
   "cell_type": "code",
   "execution_count": 147,
   "id": "14e34b6b-0550-49d9-80f3-17c1485c2aa8",
   "metadata": {},
   "outputs": [],
   "source": [
    "df = pd.DataFrame({'length': hm_pred_is_less_diverse.keys(), 'count': hm_pred_is_less_diverse.values()})"
   ]
  },
  {
   "cell_type": "code",
   "execution_count": 150,
   "id": "7e4a9566-691f-4b7c-b2e8-4aa6e1096825",
   "metadata": {},
   "outputs": [],
   "source": [
    "sns.set(style='darkgrid')"
   ]
  },
  {
   "cell_type": "code",
   "execution_count": 151,
   "id": "97fcc121-1204-4c23-9ee0-3cfa886a3e8a",
   "metadata": {},
   "outputs": [
    {
     "data": {
      "text/plain": [
       "<AxesSubplot:xlabel='length', ylabel='count'>"
      ]
     },
     "execution_count": 151,
     "metadata": {},
     "output_type": "execute_result"
    },
    {
     "data": {
      "image/png": "[encoded data removed]",
      "text/plain": [
       "<Figure size 432x288 with 1 Axes>"
      ]
     },
     "metadata": {},
     "output_type": "display_data"
    }
   ],
   "source": [
    "sns.lineplot(x='length', y='count', data=df)"
   ]
  },
  {
   "cell_type": "markdown",
   "id": "d1d1b745-6391-4f7f-8913-479f4788ac2b",
   "metadata": {
    "tags": []
   },
   "source": [
    "# Seaborn bar plots"
   ]
  },
  {
   "cell_type": "code",
   "execution_count": 145,
   "id": "36b54dc3-cb55-47d6-83de-8012e88925c2",
   "metadata": {},
   "outputs": [
    {
     "data": {
      "text/html": [
       "<div>\n",
       "<style scoped>\n",
       "    .dataframe tbody tr th:only-of-type {\n",
       "        vertical-align: middle;\n",
       "    }\n",
       "\n",
       "    .dataframe tbody tr th {\n",
       "        vertical-align: top;\n",
       "    }\n",
       "\n",
       "    .dataframe thead th {\n",
       "        text-align: right;\n",
       "    }\n",
       "</style>\n",
       "<table border=\"1\" class=\"dataframe\">\n",
       "  <thead>\n",
       "    <tr style=\"text-align: right;\">\n",
       "      <th></th>\n",
       "      <th>total_bill</th>\n",
       "      <th>tip</th>\n",
       "      <th>sex</th>\n",
       "      <th>smoker</th>\n",
       "      <th>day</th>\n",
       "      <th>time</th>\n",
       "      <th>size</th>\n",
       "    </tr>\n",
       "  </thead>\n",
       "  <tbody>\n",
       "    <tr>\n",
       "      <th>0</th>\n",
       "      <td>16.99</td>\n",
       "      <td>1.01</td>\n",
       "      <td>Female</td>\n",
       "      <td>No</td>\n",
       "      <td>Sun</td>\n",
       "      <td>Dinner</td>\n",
       "      <td>2</td>\n",
       "    </tr>\n",
       "    <tr>\n",
       "      <th>1</th>\n",
       "      <td>10.34</td>\n",
       "      <td>1.66</td>\n",
       "      <td>Male</td>\n",
       "      <td>No</td>\n",
       "      <td>Sun</td>\n",
       "      <td>Dinner</td>\n",
       "      <td>3</td>\n",
       "    </tr>\n",
       "    <tr>\n",
       "      <th>2</th>\n",
       "      <td>21.01</td>\n",
       "      <td>3.50</td>\n",
       "      <td>Male</td>\n",
       "      <td>No</td>\n",
       "      <td>Sun</td>\n",
       "      <td>Dinner</td>\n",
       "      <td>3</td>\n",
       "    </tr>\n",
       "    <tr>\n",
       "      <th>3</th>\n",
       "      <td>23.68</td>\n",
       "      <td>3.31</td>\n",
       "      <td>Male</td>\n",
       "      <td>No</td>\n",
       "      <td>Sun</td>\n",
       "      <td>Dinner</td>\n",
       "      <td>2</td>\n",
       "    </tr>\n",
       "    <tr>\n",
       "      <th>4</th>\n",
       "      <td>24.59</td>\n",
       "      <td>3.61</td>\n",
       "      <td>Female</td>\n",
       "      <td>No</td>\n",
       "      <td>Sun</td>\n",
       "      <td>Dinner</td>\n",
       "      <td>4</td>\n",
       "    </tr>\n",
       "    <tr>\n",
       "      <th>...</th>\n",
       "      <td>...</td>\n",
       "      <td>...</td>\n",
       "      <td>...</td>\n",
       "      <td>...</td>\n",
       "      <td>...</td>\n",
       "      <td>...</td>\n",
       "      <td>...</td>\n",
       "    </tr>\n",
       "    <tr>\n",
       "      <th>239</th>\n",
       "      <td>29.03</td>\n",
       "      <td>5.92</td>\n",
       "      <td>Male</td>\n",
       "      <td>No</td>\n",
       "      <td>Sat</td>\n",
       "      <td>Dinner</td>\n",
       "      <td>3</td>\n",
       "    </tr>\n",
       "    <tr>\n",
       "      <th>240</th>\n",
       "      <td>27.18</td>\n",
       "      <td>2.00</td>\n",
       "      <td>Female</td>\n",
       "      <td>Yes</td>\n",
       "      <td>Sat</td>\n",
       "      <td>Dinner</td>\n",
       "      <td>2</td>\n",
       "    </tr>\n",
       "    <tr>\n",
       "      <th>241</th>\n",
       "      <td>22.67</td>\n",
       "      <td>2.00</td>\n",
       "      <td>Male</td>\n",
       "      <td>Yes</td>\n",
       "      <td>Sat</td>\n",
       "      <td>Dinner</td>\n",
       "      <td>2</td>\n",
       "    </tr>\n",
       "    <tr>\n",
       "      <th>242</th>\n",
       "      <td>17.82</td>\n",
       "      <td>1.75</td>\n",
       "      <td>Male</td>\n",
       "      <td>No</td>\n",
       "      <td>Sat</td>\n",
       "      <td>Dinner</td>\n",
       "      <td>2</td>\n",
       "    </tr>\n",
       "    <tr>\n",
       "      <th>243</th>\n",
       "      <td>18.78</td>\n",
       "      <td>3.00</td>\n",
       "      <td>Female</td>\n",
       "      <td>No</td>\n",
       "      <td>Thur</td>\n",
       "      <td>Dinner</td>\n",
       "      <td>2</td>\n",
       "    </tr>\n",
       "  </tbody>\n",
       "</table>\n",
       "<p>244 rows × 7 columns</p>\n",
       "</div>"
      ],
      "text/plain": [
       "     total_bill   tip     sex smoker   day    time  size\n",
       "0         16.99  1.01  Female     No   Sun  Dinner     2\n",
       "1         10.34  1.66    Male     No   Sun  Dinner     3\n",
       "2         21.01  3.50    Male     No   Sun  Dinner     3\n",
       "3         23.68  3.31    Male     No   Sun  Dinner     2\n",
       "4         24.59  3.61  Female     No   Sun  Dinner     4\n",
       "..          ...   ...     ...    ...   ...     ...   ...\n",
       "239       29.03  5.92    Male     No   Sat  Dinner     3\n",
       "240       27.18  2.00  Female    Yes   Sat  Dinner     2\n",
       "241       22.67  2.00    Male    Yes   Sat  Dinner     2\n",
       "242       17.82  1.75    Male     No   Sat  Dinner     2\n",
       "243       18.78  3.00  Female     No  Thur  Dinner     2\n",
       "\n",
       "[244 rows x 7 columns]"
      ]
     },
     "execution_count": 145,
     "metadata": {},
     "output_type": "execute_result"
    }
   ],
   "source": [
    "hm = defaultdict(list)\n",
    "\n",
    "for i in range(len(prev_comm)):\n",
    "    c1, c2 = prev_comm[i], pred_comm[i]\n",
    "    for j in range(2, len(c1)):\n",
    "        if diversity_metric(c1[-j:], community_dict) == diversity_metric(c2[:j], community_dict):\n",
    "            hm[j].append(1)\n",
    "        else:\n",
    "            hm[j].append(0)\n",
    "for k in hm:\n",
    "    hm[k] = sum(hm[k]) /  len(hm[k])\n",
    "\n",
    "plot_counts(hm, 'Equally Diverse')\n",
    "\n",
    "hm_pred_is_equally_diverse = hm"
   ]
  },
  {
   "cell_type": "code",
   "execution_count": 155,
   "id": "37f33fb2-c737-4a44-ae6a-3fb88c39902f",
   "metadata": {},
   "outputs": [
    {
     "data": {
      "image/png": "[encoded data removed]",
      "text/plain": [
       "<Figure size 432x288 with 1 Axes>"
      ]
     },
     "metadata": {},
     "output_type": "display_data"
    }
   ],
   "source": [
    "tips = sns.load_dataset(\"tips\")\n",
    "ax = sns.barplot(x=\"day\", y=\"total_bill\", data=tips,palette=\"Blues_d\")"
   ]
  },
  {
   "cell_type": "markdown",
   "id": "19f0d082-9316-4720-9eb0-4461f90b374f",
   "metadata": {},
   "source": [
    "## Raw Diversity"
   ]
  },
  {
   "cell_type": "code",
   "execution_count": 368,
   "id": "f3fa94de-0e53-4b65-9c8f-279e72733834",
   "metadata": {},
   "outputs": [
    {
     "data": {
      "image/png": "[encoded data removed]",
      "text/plain": [
       "<Figure size 432x288 with 1 Axes>"
      ]
     },
     "metadata": {},
     "output_type": "display_data"
    }
   ],
   "source": [
    "# prev_communities only\n",
    "hm1 = defaultdict(list)\n",
    "for i in range(len(prev_comm)):\n",
    "    c1, c2 = prev_comm[i], pred_comm[i]\n",
    "    hm1[len(c1)].append(len(set(c1)))\n",
    "\n",
    "    \n",
    "# Convert to percents\n",
    "for k in hm1:\n",
    "    hm1[k] = np.mean(hm1[k])\n",
    "plot_counts(hm1, 'raw community count', xlabel='length', ylabel='num communities')"
   ]
  },
  {
   "cell_type": "code",
   "execution_count": 441,
   "id": "d25a7e84-66bb-48de-b7fa-c4e0c9cc5e0c",
   "metadata": {},
   "outputs": [
    {
     "data": {
      "image/png": "[encoded data removed]",
      "text/plain": [
       "<Figure size 432x288 with 1 Axes>"
      ]
     },
     "metadata": {},
     "output_type": "display_data"
    }
   ],
   "source": [
    "# pred_communities only\n",
    "hm1 = defaultdict(list)\n",
    "for i in range(len(pred_comm)):\n",
    "    c1, c2 = prev_comm[i], pred_comm[i]\n",
    "    hm1[len(c2)].append(len(set(c2)))\n",
    "    \n",
    "# Convert to percents\n",
    "for k in hm1:\n",
    "    hm1[k] = np.mean(hm1[k])\n",
    "plot_counts(hm1, 'raw community count of prev', xlabel='length', ylabel='avg # of communities')"
   ]
  },
  {
   "cell_type": "code",
   "execution_count": 442,
   "id": "e9c32bf4-aded-4725-aa32-4f5f636b10f4",
   "metadata": {},
   "outputs": [
    {
     "data": {
      "image/png": "[encoded data removed]",
      "text/plain": [
       "<Figure size 432x288 with 1 Axes>"
      ]
     },
     "metadata": {},
     "output_type": "display_data"
    }
   ],
   "source": [
    "# full pred communities\n",
    "hm = defaultdict(list)\n",
    "for pred in predictions:\n",
    "    c2 = get_communities(pred, community_dict)\n",
    "    for i in range(len(c2)):\n",
    "        hm[i].append(len(set(c2[:i])))\n",
    "for k in hm:\n",
    "    hm[k] = np.mean(hm[k])\n",
    "plot_counts(hm, 'raw community count of preds', xlabel='length', ylabel='avg # of communities')"
   ]
  },
  {
   "cell_type": "code",
   "execution_count": 284,
   "id": "dbec3072-d5aa-4ad6-84ba-ebadacde777c",
   "metadata": {},
   "outputs": [
    {
     "data": {
      "text/plain": [
       "[<matplotlib.lines.Line2D at 0x7fcad145c070>]"
      ]
     },
     "execution_count": 284,
     "metadata": {},
     "output_type": "execute_result"
    },
    {
     "data": {
      "image/png": "[encoded data removed]",
      "text/plain": [
       "<Figure size 432x288 with 1 Axes>"
      ]
     },
     "metadata": {
      "needs_background": "light"
     },
     "output_type": "display_data"
    }
   ],
   "source": [
    "# last k for every train, topk for pred\n",
    "hm_prev = defaultdict(list)\n",
    "hm_pred = defaultdict(list)\n",
    "for i in range(len(prev_comm)):\n",
    "    c1 = prev_comm[i]\n",
    "    c2 = get_communities(predictions[i], community_dict)\n",
    "    for j in range(min(len(c1), 20)):\n",
    "#         hm_prev[j].append(len(set(c1[:j])))\n",
    "#         hm_pred[j].append(len(set(c2[:j])))\n",
    "        hm_prev[j].append(shannon_index(list(reversed(c1))[:j], community_dict))\n",
    "        hm_pred[j].append(shannon_index(c2[:j], community_dict))\n",
    "        \n",
    "for k in hm_prev:\n",
    "    hm_prev[k] = np.mean(hm_prev[k])\n",
    "for k in hm_pred:\n",
    "    hm_pred[k] = np.mean(hm_pred[k])\n",
    "\n",
    "fig = plt.figure()\n",
    "ax = plt.axes()\n",
    "ax.plot(sorted(hm_prev.keys()), [hm_prev[x] for x in sorted(hm_prev.keys())])\n",
    "ax.plot(sorted(hm_pred.keys()), [hm_pred[x] for x in sorted(hm_pred.keys())])"
   ]
  },
  {
   "cell_type": "markdown",
   "id": "f0b4a272-5a41-4787-b902-135d8651ab5a",
   "metadata": {
    "tags": []
   },
   "source": [
    "## Quantifying Diversity Based on Watch History vs Recommendation"
   ]
  },
  {
   "cell_type": "code",
   "execution_count": 194,
   "id": "76488ea6-e688-4a8c-8c32-1532da0f6f2c",
   "metadata": {},
   "outputs": [],
   "source": [
    "def f(c):\n",
    "    return len(set(c))\n",
    "    \n",
    "def f(c):\n",
    "    hm = Counter(c)\n",
    "    for val in hm.values():\n",
    "        if val >= 0.8 * len(c):\n",
    "            return 1\n",
    "    return 0"
   ]
  },
  {
   "cell_type": "code",
   "execution_count": 202,
   "id": "ba195002-6c81-4f8d-bf99-3a9e3e20a1c2",
   "metadata": {},
   "outputs": [],
   "source": [
    "prev_comm_stats = []\n",
    "pred_comm_stats = []\n",
    "n = len(prev_comm)\n",
    "threshold = 0\n",
    "\n",
    "for i in range(n):\n",
    "    c1, c2 = prev_comm[i], pred_comm[i]\n",
    "    if len(c1) < threshold:\n",
    "        continue\n",
    "    prev_comm_stats.append(f(c1))\n",
    "    pred_comm_stats.append(f(c2))"
   ]
  },
  {
   "cell_type": "code",
   "execution_count": 203,
   "id": "ee0ec6f6-4fe5-4af9-9aab-a2341f24147f",
   "metadata": {},
   "outputs": [
    {
     "data": {
      "text/plain": [
       "5793"
      ]
     },
     "execution_count": 203,
     "metadata": {},
     "output_type": "execute_result"
    }
   ],
   "source": [
    "sum(prev_comm_stats)"
   ]
  },
  {
   "cell_type": "code",
   "execution_count": 204,
   "id": "b47d13c5-f7fc-4196-843c-97e88df76874",
   "metadata": {},
   "outputs": [
    {
     "data": {
      "text/plain": [
       "4230"
      ]
     },
     "execution_count": 204,
     "metadata": {},
     "output_type": "execute_result"
    }
   ],
   "source": [
    "sum(pred_comm_stats)"
   ]
  },
  {
   "cell_type": "markdown",
   "id": "cb385a6d-d536-4354-966a-d6f85114b106",
   "metadata": {},
   "source": [
    "# Quantifying Filter-Bubble Based on Combination of Watch History + Recommendation"
   ]
  },
  {
   "cell_type": "markdown",
   "id": "145c223a-377f-4b89-bcbe-b5775bc2f375",
   "metadata": {},
   "source": [
    "## Quantify Functions"
   ]
  },
  {
   "cell_type": "code",
   "execution_count": 232,
   "id": "b4fa4886-2271-418a-8eeb-d699daaf0e35",
   "metadata": {},
   "outputs": [],
   "source": [
    "# Does one of the top 3 predictions belong in a community in the previous history?\n",
    "def f(prev, pred, threshold=3):\n",
    "    for comm in pred[:threshold]:\n",
    "        if comm in prev:\n",
    "            return 1\n",
    "    return 0\n",
    "\n",
    "# Does one of the top-threshold belong in the majority community in the previous history?\n",
    "def f(prev, pred, threshold=3):\n",
    "    hm = Counter(prev)\n",
    "    most_common = max(hm.keys(), key=hm.get)\n",
    "    \n",
    "    for comm in pred[:threshold]:\n",
    "        if comm == most_common:\n",
    "            return 1\n",
    "    return 0\n",
    "\n",
    "# What % of the top-threshold belongs in the most common community in the previous history\n",
    "def f(prev, pred, threshold=3):\n",
    "    hm = Counter(prev)\n",
    "    most_common = max(hm.keys(), key=hm.get)\n",
    "    \n",
    "    count = 0\n",
    "    for comm in pred[:threshold]:\n",
    "        if comm == most_common:\n",
    "            count += 1\n",
    "    return count / threshold"
   ]
  },
  {
   "cell_type": "code",
   "execution_count": 221,
   "id": "2f8fcec2-1045-4951-bc5b-8cc1c8c6241f",
   "metadata": {},
   "outputs": [],
   "source": [
    "# What percentage of the top-threshold predictions belong in a community in the previous history?\n",
    "def f(prev, pred, threshold=5):\n",
    "    count = 0\n",
    "    for comm in pred[:threshold]:\n",
    "        if comm in prev:\n",
    "            count += 1\n",
    "    return count / threshold\n",
    "\n",
    "# What percentage of the top-threshold predictions belong in the communities of the last threshold-items in the history?\n",
    "def f(prev, pred, threshold=10):\n",
    "    count = 0\n",
    "    for comm in pred[:threshold]:\n",
    "#         if comm in list(reversed(prev))[:threshold]:\n",
    "        if comm in prev[-threshold:]:\n",
    "            count += 1\n",
    "    return count / threshold"
   ]
  },
  {
   "cell_type": "markdown",
   "id": "85b1e4e1-230b-4632-9ba5-c2a670d8eef1",
   "metadata": {},
   "source": [
    "## Filter functions"
   ]
  },
  {
   "cell_type": "code",
   "execution_count": 222,
   "id": "8e3dc80b-5f03-4ec3-876a-ffda7451c0f4",
   "metadata": {},
   "outputs": [],
   "source": [
    "def filter(c):\n",
    "    hm = Counter(c)\n",
    "    for val in hm.values():\n",
    "        if val >= 0.9 * len(c):\n",
    "            return True\n",
    "    return False"
   ]
  },
  {
   "cell_type": "markdown",
   "id": "28dd2f05-e974-48c9-b2f9-a6cbb00b46bd",
   "metadata": {},
   "source": [
    "## This cell actually computes values"
   ]
  },
  {
   "cell_type": "code",
   "execution_count": 233,
   "id": "7c2787e0-2f59-45bb-97f4-d6f7065f2593",
   "metadata": {},
   "outputs": [],
   "source": [
    "counts = []\n",
    "n = len(prev_comm)\n",
    "threshold = 0\n",
    "\n",
    "for i in range(n):\n",
    "    c1, c2 = prev_comm[i], pred_comm[i]\n",
    "#     if not filter(c1):\n",
    "#         continue\n",
    "    if len(c1) < threshold:\n",
    "        continue\n",
    "    counts.append(f(c1,c2))"
   ]
  },
  {
   "cell_type": "code",
   "execution_count": 234,
   "id": "5ea3ceb7-fd13-460a-9428-2ded5ce4529b",
   "metadata": {},
   "outputs": [
    {
     "data": {
      "text/plain": [
       "0.859450844019424"
      ]
     },
     "execution_count": 234,
     "metadata": {},
     "output_type": "execute_result"
    }
   ],
   "source": [
    "sum(counts)/len(counts)"
   ]
  },
  {
   "cell_type": "code",
   "execution_count": 235,
   "id": "143672b4-eb1e-4f44-8882-c6c3009eeb42",
   "metadata": {},
   "outputs": [
    {
     "data": {
      "text/plain": [
       "0.859450844019424"
      ]
     },
     "execution_count": 235,
     "metadata": {},
     "output_type": "execute_result"
    }
   ],
   "source": [
    "sum(counts)/len(counts)"
   ]
  },
  {
   "cell_type": "markdown",
   "id": "22736e8f-b120-4130-beb9-9e616709633b",
   "metadata": {},
   "source": [
    "# Classifying training data by filter bubble and non-filter bubble"
   ]
  },
  {
   "cell_type": "markdown",
   "id": "c19b4999-612f-47f0-a9d8-ad98ed91e289",
   "metadata": {},
   "source": [
    "## Comparing how often there is a filter bubble"
   ]
  },
  {
   "cell_type": "code",
   "execution_count": 319,
   "id": "4e732cb3-cfbe-49a1-9014-f6b61930e203",
   "metadata": {},
   "outputs": [],
   "source": [
    "# Generate sequences and gt\n",
    "sequences = [pt[0] for pt in valid_data]\n",
    "# sequences = [list(reversed(pt[0]))[:10] for pt in valid_data]\n",
    "gt = [pt[1] for pt in valid_data]"
   ]
  },
  {
   "cell_type": "code",
   "execution_count": 329,
   "id": "ab33e1bc-be23-4459-984b-65714c228ef2",
   "metadata": {},
   "outputs": [
    {
     "data": {
      "text/plain": [
       "9202"
      ]
     },
     "execution_count": 329,
     "metadata": {},
     "output_type": "execute_result"
    }
   ],
   "source": [
    "len(prev_comm)"
   ]
  },
  {
   "cell_type": "code",
   "execution_count": 343,
   "id": "f51e2abf-bbb6-49e5-94c0-a86fd5034779",
   "metadata": {},
   "outputs": [
    {
     "ename": "SyntaxError",
     "evalue": "invalid syntax (923868302.py, line 1)",
     "output_type": "error",
     "traceback": [
      "\u001b[0;36m  File \u001b[0;32m\"/tmp/ipykernel_1091093/923868302.py\"\u001b[0;36m, line \u001b[0;32m1\u001b[0m\n\u001b[0;31m    sum(1 if get_communities(sequences[i], community_dict) == community_dict[gt[i] else 0 for i in range(len(gt)))\u001b[0m\n\u001b[0m                                                                                   ^\u001b[0m\n\u001b[0;31mSyntaxError\u001b[0m\u001b[0;31m:\u001b[0m invalid syntax\n"
     ]
    }
   ],
   "source": [
    "sum(1 if get_communities(sequences[i], community_dict) == community_dict[gt[i] else 0 for i in range(len(gt)))"
   ]
  },
  {
   "cell_type": "code",
   "execution_count": null,
   "id": "6ef057c7-d66b-49d0-8f22-b611bb0a2e0e",
   "metadata": {},
   "outputs": [],
   "source": [
    "sequences[0]"
   ]
  },
  {
   "cell_type": "code",
   "execution_count": 410,
   "id": "ba66dea2-4dab-45b7-a30f-c45fba01a61d",
   "metadata": {},
   "outputs": [],
   "source": [
    "# def filter(c):\n",
    "# #     last_10 = sequence[-10:]\n",
    "#     for val in Counter(c).values():\n",
    "#         if val >= 0.9 * len(c):\n",
    "#             return 1\n",
    "#     return 0\n",
    "\n",
    "def is_filter_bubble(c, label):\n",
    "#     last_10 = sequence[-10:]\n",
    "#     c = c[-10:]\n",
    "    for key, val in Counter(c).items():\n",
    "        if val >= 0.90 * len(c) and key == community_dict[label]:\n",
    "#         if val >= 0.9 * len(c):\n",
    "            return 1\n",
    "    return 0\n",
    "\n",
    "nums = []\n",
    "for i, sequence in enumerate(prev_comm):\n",
    "#     nums.append(is_filter_bubble(sequence, gt[i]))\n",
    "    nums.append(is_filter_bubble(sequence, predictions[i][0]))"
   ]
  },
  {
   "cell_type": "code",
   "execution_count": 379,
   "id": "33edfd5a-4224-48e4-999b-e5fd8ece8f69",
   "metadata": {},
   "outputs": [
    {
     "data": {
      "text/plain": [
       "0.549771788741578"
      ]
     },
     "execution_count": 379,
     "metadata": {},
     "output_type": "execute_result"
    }
   ],
   "source": [
    "sum(nums) / len(nums)"
   ]
  },
  {
   "cell_type": "code",
   "execution_count": 363,
   "id": "9dc0f54f-4c63-4123-83e8-485814ee52b7",
   "metadata": {},
   "outputs": [
    {
     "data": {
      "text/plain": [
       "9202"
      ]
     },
     "execution_count": 363,
     "metadata": {},
     "output_type": "execute_result"
    }
   ],
   "source": [
    "len(nums)"
   ]
  },
  {
   "cell_type": "code",
   "execution_count": 365,
   "id": "5081bcb5-847d-4c95-830b-b99b71a44510",
   "metadata": {},
   "outputs": [
    {
     "data": {
      "text/plain": [
       "0.549771788741578"
      ]
     },
     "execution_count": 381,
     "metadata": {},
     "output_type": "execute_result"
    }
   ],
   "source": [
    "sum(nums) / len(nums)"
   ]
  },
  {
   "cell_type": "code",
   "execution_count": 443,
   "id": "33be4a9d-c8d6-441f-9118-91e9b79531d6",
   "metadata": {},
   "outputs": [
    {
     "name": "stdout",
     "output_type": "stream",
     "text": [
      "\u001b[0m\u001b[01;34mbackup_checkpoint\u001b[0m/        LICENSE               preprocess_for_lstm.py\n",
      "\u001b[01;34mcheckpoints\u001b[0m/              \u001b[01;34mLSTM_clean\u001b[0m/           \u001b[01;34m__pycache__\u001b[0m/\n",
      "\u001b[01;34mcheckpoints_v2\u001b[0m/           \u001b[01;34mLSTM_Sejoon\u001b[0m/          README.md\n",
      "\u001b[01;34mdata\u001b[0m/                     lstm_wrapper.py       \u001b[01;34mtracin\u001b[0m/\n",
      "\u001b[01;34mdepr\u001b[0m/                     \u001b[01;34mmyang_code_refactor\u001b[0m/\n",
      "diversity_experiments.py  myang_tracin_lstm.py\n"
     ]
    }
   ],
   "source": [
    "ls"
   ]
  },
  {
   "cell_type": "code",
   "execution_count": 453,
   "id": "5c820890-47cf-4b2f-af5e-019bee0d07bb",
   "metadata": {},
   "outputs": [],
   "source": [
    "with open(\"length_influences_dict.pkl\", 'rb') as f:\n",
    "    influences = pickle.load(f)"
   ]
  },
  {
   "cell_type": "code",
   "execution_count": 454,
   "id": "99d28e00-4abe-4857-93e9-afe0190c7e55",
   "metadata": {},
   "outputs": [],
   "source": [
    "for k, v in influences.items():\n",
    "    influences[k] = sum(abs(x) for x in influences[k])"
   ]
  },
  {
   "cell_type": "code",
   "execution_count": null,
   "id": "ef9acce0-ba7b-473e-a9ed-1bb3f1a63e9b",
   "metadata": {},
   "outputs": [],
   "source": []
  },
  {
   "cell_type": "code",
   "execution_count": 456,
   "id": "b5712927-a2c0-481b-a75d-aade0527cdef",
   "metadata": {},
   "outputs": [
    {
     "data": {
      "text/plain": [
       "{0: 0.19615576608339325,\n",
       " 2: 0.13059878681087866,\n",
       " 4: 0.08724804024677724,\n",
       " 6: 0.06313548100297339,\n",
       " 8: 0.057922716689063236,\n",
       " 10: 0.07100643284502439,\n",
       " 12: 0.089271603646921,\n",
       " 14: 0.08094245778920595,\n",
       " 16: 0.09046301498892717,\n",
       " 18: 0.06926983622906846,\n",
       " 20: 0.09784355520969257,\n",
       " 22: 0.09645548567641526,\n",
       " 24: 0.14919478580122814,\n",
       " 26: 0.12303912942297757,\n",
       " 28: 0.12479540366621222,\n",
       " 30: 0.1039797104022,\n",
       " 32: 0.12097836847533472,\n",
       " 34: 0.1563789519132115,\n",
       " 36: 0.14293774054385722,\n",
       " 38: 0.22456581727601588,\n",
       " 40: 0.18615880492143333,\n",
       " 42: 0.17048273367981892,\n",
       " 44: 0.22241657506674528,\n",
       " 46: 0.20862414606381208,\n",
       " 48: 0.2033533367648488}"
      ]
     },
     "execution_count": 456,
     "metadata": {},
     "output_type": "execute_result"
    }
   ],
   "source": [
    "influences"
   ]
  },
  {
   "cell_type": "code",
   "execution_count": 455,
   "id": "bd821427-3329-4160-a4d9-1dfb1dbbbc11",
   "metadata": {},
   "outputs": [
    {
     "data": {
      "image/png": "[encoded data removed]",
      "text/plain": [
       "<Figure size 432x288 with 1 Axes>"
      ]
     },
     "metadata": {},
     "output_type": "display_data"
    }
   ],
   "source": [
    "plot_counts(influences)"
   ]
  },
  {
   "cell_type": "markdown",
   "id": "defd0979-3027-449b-849f-ccda4438aa1b",
   "metadata": {},
   "source": [
    "## Comparing how often GT is in previous communities vs the top ith prediction"
   ]
  },
  {
   "cell_type": "code",
   "execution_count": 434,
   "id": "6d2e4e0b-d4f0-40ab-8a8c-a1b475915ead",
   "metadata": {},
   "outputs": [],
   "source": [
    "def is_filter_bubble(c, label):\n",
    "#     last_10 = sequence[-10:]\n",
    "#     c = c[-10:]\n",
    "    for key, val in Counter(c).items():\n",
    "        if val >= 0.9 * len(c) and key == community_dict[label]:\n",
    "#         if val >= 0.9 * len(c):\n",
    "            return 1\n",
    "    return 0"
   ]
  },
  {
   "cell_type": "code",
   "execution_count": 435,
   "id": "b30e94c6-2f8d-4a7f-8fcd-4d110155a5c6",
   "metadata": {},
   "outputs": [],
   "source": [
    "# Generate sequences and gt\n",
    "sequences = [pt[0] for pt in valid_data]\n",
    "# sequences = [list(reversed(pt[0]))[:10] for pt in valid_data]\n",
    "gt = [pt[1] for pt in valid_data]"
   ]
  },
  {
   "cell_type": "code",
   "execution_count": 436,
   "id": "6b164109-328d-4792-bda2-93c7ef6a4f4e",
   "metadata": {},
   "outputs": [],
   "source": [
    "nums1 = []\n",
    "nums2 = []\n",
    "for i in range(len(sequences)):\n",
    "#     if community_dict[gt[i]] in get_communities(sequences[i][-10:], community_dict):\n",
    "    if is_filter_bubble(get_communities(sequences[i], community_dict), gt[i]):\n",
    "        nums1.append(1)\n",
    "    else:\n",
    "        nums1.append(0)\n",
    "        \n",
    "#     if community_dict[predictions[i][10]] in get_communities(sequences[i][-10:], community_dict):\n",
    "    if is_filter_bubble(get_communities(sequences[i], community_dict), predictions[i][0]):\n",
    "        nums2.append(1)\n",
    "    else:\n",
    "        nums2.append(0)"
   ]
  },
  {
   "cell_type": "code",
   "execution_count": 437,
   "id": "1cd90d95-5090-42d7-bb22-29d9cba35792",
   "metadata": {},
   "outputs": [
    {
     "data": {
      "text/plain": [
       "0.4407737448380787"
      ]
     },
     "execution_count": 437,
     "metadata": {},
     "output_type": "execute_result"
    }
   ],
   "source": [
    "sum(nums1) / len(nums1)"
   ]
  },
  {
   "cell_type": "code",
   "execution_count": 438,
   "id": "96d9c9de-adf9-4a48-a658-5d18675ff8a9",
   "metadata": {},
   "outputs": [
    {
     "data": {
      "text/plain": [
       "0.45544446859378396"
      ]
     },
     "execution_count": 438,
     "metadata": {},
     "output_type": "execute_result"
    }
   ],
   "source": [
    "sum(nums2)/ len(nums2)"
   ]
  },
  {
   "cell_type": "code",
   "execution_count": 439,
   "id": "8a16662d-f30b-4561-af88-ba896742e288",
   "metadata": {},
   "outputs": [
    {
     "data": {
      "text/plain": [
       "0.4407737448380787"
      ]
     },
     "execution_count": 439,
     "metadata": {},
     "output_type": "execute_result"
    }
   ],
   "source": [
    "sum(nums1) / len(nums1)"
   ]
  },
  {
   "cell_type": "code",
   "execution_count": 440,
   "id": "f4299a33-c02b-4539-a41f-9a409f32b162",
   "metadata": {},
   "outputs": [
    {
     "data": {
      "text/plain": [
       "0.45544446859378396"
      ]
     },
     "execution_count": 440,
     "metadata": {},
     "output_type": "execute_result"
    }
   ],
   "source": [
    "sum(nums2)/ len(nums2)"
   ]
  },
  {
   "cell_type": "markdown",
   "id": "dbf44a63-8445-422a-a3c1-0ac1ed5bc21c",
   "metadata": {},
   "source": [
    "## Extracting filter bubble pts + breaking the filter bubble pts"
   ]
  },
  {
   "cell_type": "code",
   "execution_count": 237,
   "id": "66dc833d-f332-4241-b6fe-829c1acf7eac",
   "metadata": {},
   "outputs": [],
   "source": [
    "DIVERSITY_FOLDER = os.path.join(SAVE_FOLDER, \"twitch_sequence\")"
   ]
  },
  {
   "cell_type": "code",
   "execution_count": 67,
   "id": "43081b2f-031d-4437-8185-c6820b2f491c",
   "metadata": {},
   "outputs": [
    {
     "data": {
      "text/plain": [
       "'/raid/home/myang349/recsys-filterbubbles'"
      ]
     },
     "execution_count": 67,
     "metadata": {},
     "output_type": "execute_result"
    }
   ],
   "source": [
    "pwd"
   ]
  },
  {
   "cell_type": "code",
   "execution_count": 457,
   "id": "93bdbcfb-a5d6-4f83-8075-6e5e4dc08dee",
   "metadata": {},
   "outputs": [
    {
     "ename": "FileNotFoundError",
     "evalue": "[Errno 2] No such file or directory: '/raid/home/myang349/recsys-filterbubbles/myang_code_refactor/final_analysis/length_influences1_dict.pkl'",
     "output_type": "error",
     "traceback": [
      "\u001b[0;31m---------------------------------------------------------------------------\u001b[0m",
      "\u001b[0;31mFileNotFoundError\u001b[0m                         Traceback (most recent call last)",
      "\u001b[0;32m/tmp/ipykernel_1091093/2377664502.py\u001b[0m in \u001b[0;36m<module>\u001b[0;34m\u001b[0m\n\u001b[0;32m----> 1\u001b[0;31m \u001b[0;32mwith\u001b[0m \u001b[0mopen\u001b[0m\u001b[0;34m(\u001b[0m\u001b[0;34m'/raid/home/myang349/recsys-filterbubbles/myang_code_refactor/final_analysis/length_influences1_dict.pkl'\u001b[0m\u001b[0;34m,\u001b[0m \u001b[0;34m'rb'\u001b[0m\u001b[0;34m)\u001b[0m \u001b[0;32mas\u001b[0m \u001b[0mf\u001b[0m\u001b[0;34m:\u001b[0m\u001b[0;34m\u001b[0m\u001b[0;34m\u001b[0m\u001b[0m\n\u001b[0m\u001b[1;32m      2\u001b[0m \u001b[0;34m\u001b[0m\u001b[0m\n\u001b[1;32m      3\u001b[0m     \u001b[0mdata\u001b[0m \u001b[0;34m=\u001b[0m \u001b[0mpickle\u001b[0m\u001b[0;34m.\u001b[0m\u001b[0mload\u001b[0m\u001b[0;34m(\u001b[0m\u001b[0mf\u001b[0m\u001b[0;34m)\u001b[0m\u001b[0;34m\u001b[0m\u001b[0;34m\u001b[0m\u001b[0m\n",
      "\u001b[0;31mFileNotFoundError\u001b[0m: [Errno 2] No such file or directory: '/raid/home/myang349/recsys-filterbubbles/myang_code_refactor/final_analysis/length_influences1_dict.pkl'"
     ]
    }
   ],
   "source": [
    "with open('/raid/home/myang349/recsys-filterbubbles/myang_code_refactor/final_analysis/length_influences1_dict.pkl', 'rb') as f:\n",
    "    \n",
    "    data = pickle.load(f)"
   ]
  },
  {
   "cell_type": "code",
   "execution_count": 70,
   "id": "306dcdfd-6a9f-4ea2-8fda-dfbc2edb9ab1",
   "metadata": {},
   "outputs": [],
   "source": [
    "hm = {}\n",
    "for key in data:\n",
    "    hm[key] = sum(data[key])"
   ]
  },
  {
   "cell_type": "code",
   "execution_count": 72,
   "id": "f4bec643-841b-4f72-bf40-a6d92c74837e",
   "metadata": {},
   "outputs": [
    {
     "data": {
      "image/png": "[encoded data removed]",
      "text/plain": [
       "<Figure size 432x288 with 1 Axes>"
      ]
     },
     "metadata": {
      "needs_background": "light"
     },
     "output_type": "display_data"
    }
   ],
   "source": [
    "plot_counts(hm, 'wew')"
   ]
  },
  {
   "cell_type": "code",
   "execution_count": 460,
   "id": "84f8c3f8-4569-4b74-bb58-b48e96d805cc",
   "metadata": {},
   "outputs": [
    {
     "data": {
      "text/plain": [
       "2"
      ]
     },
     "execution_count": 460,
     "metadata": {},
     "output_type": "execute_result"
    }
   ],
   "source": [
    "len(train_data[0])"
   ]
  },
  {
   "cell_type": "code",
   "execution_count": null,
   "id": "cdac03e7-94f8-4e45-a88d-cdab8533b0a2",
   "metadata": {},
   "outputs": [],
   "source": []
  }
 ],
 "metadata": {
  "kernelspec": {
   "display_name": "cse_v1",
   "language": "python",
   "name": "cse_v1"
  },
  "language_info": {
   "codemirror_mode": {
    "name": "ipython",
    "version": 3
   },
   "file_extension": ".py",
   "mimetype": "text/x-python",
   "name": "python",
   "nbconvert_exporter": "python",
   "pygments_lexer": "ipython3",
   "version": "3.9.7"
  }
 },
 "nbformat": 4,
 "nbformat_minor": 5
}
