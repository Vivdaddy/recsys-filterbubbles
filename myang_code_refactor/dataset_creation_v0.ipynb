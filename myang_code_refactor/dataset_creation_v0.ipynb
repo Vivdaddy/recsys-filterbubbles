{
 "cells": [
  {
   "cell_type": "code",
   "execution_count": 1,
   "id": "24dd97c7-60e9-48f7-a28c-4f8f236aa6d2",
   "metadata": {},
   "outputs": [],
   "source": [
    "%load_ext autoreload"
   ]
  },
  {
   "cell_type": "code",
   "execution_count": 2,
   "id": "06555c04-6883-4237-9f28-0cd13f4b1022",
   "metadata": {},
   "outputs": [],
   "source": [
    "%autoreload 2"
   ]
  },
  {
   "cell_type": "code",
   "execution_count": 3,
   "id": "7a026ae5-657c-477b-83e2-cc02565861c2",
   "metadata": {},
   "outputs": [
    {
     "name": "stdout",
     "output_type": "stream",
     "text": [
      "/raid/home/myang349/recsys-filterbubbles\n"
     ]
    }
   ],
   "source": [
    "cd /raid/home/myang349/recsys-filterbubbles/"
   ]
  },
  {
   "cell_type": "code",
   "execution_count": 4,
   "id": "d90ae3b3-5451-48a5-a3ef-1afe482c4feb",
   "metadata": {},
   "outputs": [],
   "source": [
    "import torch\n",
    "import torch.nn as nn\n",
    "import torch.nn.functional as F\n",
    "import os\n",
    "import torch.optim as optim\n",
    "from os import listdir\n",
    "from os.path import isfile, join\n",
    "from tracin.tracin import (\n",
    "    save_tracin_checkpoint,\n",
    "    load_tracin_checkpoint,\n",
    "    calculate_tracin_influence,\n",
    ")\n",
    "import pandas as pd\n",
    "from LSTM_clean.utils import filter_and_split_data, sequence_generator, printl\n",
    "from LSTM_clean.model import LSTM \n",
    "from collections import Counter\n",
    "import numpy as np\n",
    "import pickle\n",
    "from collections import defaultdict"
   ]
  },
  {
   "cell_type": "code",
   "execution_count": 5,
   "id": "ae3c90f1-f5bf-4b1a-8cb8-b5d90fffe01e",
   "metadata": {},
   "outputs": [
    {
     "data": {
      "text/plain": [
       "'/raid/home/myang349/recsys-filterbubbles'"
      ]
     },
     "execution_count": 5,
     "metadata": {},
     "output_type": "execute_result"
    }
   ],
   "source": [
    "os.getcwd()"
   ]
  },
  {
   "cell_type": "code",
   "execution_count": 6,
   "id": "e18941ca-2db2-47c9-addb-0b1f7fe45703",
   "metadata": {},
   "outputs": [],
   "source": [
    "DATA_FOLDER = \"/raid/home/myang349/recsys-filterbubbles/data/\"\n",
    "DATA_NAME = \"twitch100k.csv\"\n",
    "USER_KEY = 'user_id'\n",
    "ITEM_KEY = 'streamer_name'\n",
    "TIME_KEY = 'stop_time'\n",
    "LOOK_BACK = 50"
   ]
  },
  {
   "cell_type": "code",
   "execution_count": 7,
   "id": "0b35a1c1-b4ad-4e1f-b6c4-cde5d7161325",
   "metadata": {},
   "outputs": [
    {
     "name": "stdout",
     "output_type": "stream",
     "text": [
      "Device is  cuda\n"
     ]
    }
   ],
   "source": [
    "device = torch.device(\"cuda\" if torch.cuda.is_available() else \"cpu\")\n",
    "print(\"Device is \", device)\n"
   ]
  },
  {
   "cell_type": "markdown",
   "id": "4728a618-f5f2-4968-819f-9277c1993122",
   "metadata": {},
   "source": [
    "# Loading Data"
   ]
  },
  {
   "cell_type": "code",
   "execution_count": 8,
   "id": "994b83ce-fb36-4a9e-9fbf-77e87b0d9ab7",
   "metadata": {},
   "outputs": [
    {
     "name": "stdout",
     "output_type": "stream",
     "text": [
      "Starting data retrieval for: twitch100k.csv\n"
     ]
    }
   ],
   "source": [
    "print(f\"Starting data retrieval for: {DATA_NAME}\")\n",
    "df = pd.read_csv(os.path.join(DATA_FOLDER, DATA_NAME))"
   ]
  },
  {
   "cell_type": "code",
   "execution_count": 9,
   "id": "358196ea-af02-41c9-a32c-f449555c2275",
   "metadata": {},
   "outputs": [],
   "source": [
    "# Not needed because it is already done by the sequence generator function\n",
    "# if 0 in df['streamer_name'].values:\n",
    "#     df['streamer_name'] = df['streamer_name'].apply(lambda x: x + 1)"
   ]
  },
  {
   "cell_type": "code",
   "execution_count": 10,
   "id": "ed18ce64-e855-46f1-9adf-87c429f1bfe2",
   "metadata": {},
   "outputs": [],
   "source": [
    "data = df[[USER_KEY, ITEM_KEY, TIME_KEY]]\n",
    "data = data.values"
   ]
  },
  {
   "cell_type": "code",
   "execution_count": 15,
   "id": "357c768c-d438-4b56-ade2-5c2312cb8350",
   "metadata": {},
   "outputs": [],
   "source": [
    "unique_users = sorted(list(set(data[:, 0])))\n",
    "unique_items = sorted(list(set(data[:, 1])))"
   ]
  },
  {
   "cell_type": "code",
   "execution_count": 16,
   "id": "7d67235a-b960-457b-a19f-690665980c7a",
   "metadata": {},
   "outputs": [],
   "source": [
    "\n",
    "user_dic = {user:idx for (idx,user) in enumerate(unique_users)}\n",
    "item_dic = {item:idx for (idx,item) in enumerate(unique_items)}\n",
    "\n",
    "# for (idx, row) in enumerate(data):\n",
    "#     user,item,time = user_dic[row[0]],item_dic[row[1]],row[2]\n",
    "#     data[idx,0],data[idx,1] = int(user),int(item)"
   ]
  },
  {
   "cell_type": "code",
   "execution_count": 13,
   "id": "30a32c41-b751-4b06-8047-3272b7b4b958",
   "metadata": {},
   "outputs": [
    {
     "ename": "NameError",
     "evalue": "name 'latest_time_per_user' is not defined",
     "output_type": "error",
     "traceback": [
      "\u001b[0;31m---------------------------------------------------------------------------\u001b[0m",
      "\u001b[0;31mNameError\u001b[0m                                 Traceback (most recent call last)",
      "\u001b[0;32m/tmp/ipykernel_2066252/2692335997.py\u001b[0m in \u001b[0;36m<module>\u001b[0;34m\u001b[0m\n\u001b[0;32m----> 1\u001b[0;31m \u001b[0mlatest_time_per_user\u001b[0m\u001b[0;34m\u001b[0m\u001b[0;34m\u001b[0m\u001b[0m\n\u001b[0m",
      "\u001b[0;31mNameError\u001b[0m: name 'latest_time_per_user' is not defined"
     ]
    }
   ],
   "source": [
    "latest_time_per_user"
   ]
  },
  {
   "cell_type": "code",
   "execution_count": 29,
   "id": "1ed7eed4-f8d3-4f63-95a5-26376bfbd1e4",
   "metadata": {},
   "outputs": [],
   "source": [
    "new_data = filter_and_split_data(data)"
   ]
  },
  {
   "cell_type": "code",
   "execution_count": 31,
   "id": "e9a1c2ad-b3e1-4eb5-a868-549ffbf9bbcc",
   "metadata": {},
   "outputs": [
    {
     "data": {
      "text/plain": [
       "array([[   1,    0,  156,    0],\n",
       "       [   1,    1,  169,    0],\n",
       "       [   1,    0,  588,    0],\n",
       "       ...,\n",
       "       [4416,  468, 3166,    0],\n",
       "       [4416, 2149, 3283,    0],\n",
       "       [4416, 1984, 3291,    0]])"
      ]
     },
     "execution_count": 31,
     "metadata": {},
     "output_type": "execute_result"
    }
   ],
   "source": [
    "new_data[:-10]"
   ]
  },
  {
   "cell_type": "code",
   "execution_count": 40,
   "id": "ae175d74-bb39-4e46-be11-4f8cba34dcf2",
   "metadata": {},
   "outputs": [
    {
     "data": {
      "text/plain": [
       "torch.Size([49, 128])"
      ]
     },
     "execution_count": 40,
     "metadata": {},
     "output_type": "execute_result"
    }
   ],
   "source": [
    "train[0][0].shape"
   ]
  },
  {
   "cell_type": "code",
   "execution_count": 42,
   "id": "d52aee35-7359-4fdc-994a-1deacd26fc72",
   "metadata": {},
   "outputs": [
    {
     "data": {
      "text/plain": [
       "torch.Size([49, 128])"
      ]
     },
     "execution_count": 42,
     "metadata": {},
     "output_type": "execute_result"
    }
   ],
   "source": [
    "train[1][0].shape"
   ]
  },
  {
   "cell_type": "code",
   "execution_count": 44,
   "id": "fae06a2a-6e25-4b7e-ba15-a63d95a53ac8",
   "metadata": {},
   "outputs": [],
   "source": [
    "items_per_user = {int(user) : [0 for i in range(LOOK_BACK)] for user in unique_users}"
   ]
  },
  {
   "cell_type": "markdown",
   "id": "edabd4b7-3130-41e7-8fc7-6d79256b5ad5",
   "metadata": {},
   "source": [
    "# Train Test Split"
   ]
  },
  {
   "cell_type": "code",
   "execution_count": 22,
   "id": "339d5d20-0a01-4ebb-be2f-75f6081573d9",
   "metadata": {},
   "outputs": [
    {
     "data": {
      "text/plain": [
       "array([  1,   0, 156])"
      ]
     },
     "execution_count": 22,
     "metadata": {},
     "output_type": "execute_result"
    }
   ],
   "source": [
    "data[0]"
   ]
  },
  {
   "cell_type": "code",
   "execution_count": 24,
   "id": "0e9e5ac3-fc79-44ef-9dad-b5cd7cf3e8ba",
   "metadata": {},
   "outputs": [],
   "source": [
    "(users, counts) = np.unique(data[:, 0], return_counts=True)\n",
    "users = users[counts >= 10]"
   ]
  },
  {
   "cell_type": "code",
   "execution_count": 25,
   "id": "3e7baf13-8238-43df-ba8e-2141020e924e",
   "metadata": {},
   "outputs": [
    {
     "name": "stdout",
     "output_type": "stream",
     "text": [
      "2529\n"
     ]
    }
   ],
   "source": [
    "print(len(users))\n"
   ]
  },
  {
   "cell_type": "code",
   "execution_count": 28,
   "id": "2b9bdba9-3203-4da8-9d51-0dc82cc97331",
   "metadata": {},
   "outputs": [
    {
     "name": "stdout",
     "output_type": "stream",
     "text": [
      "4296\n"
     ]
    }
   ],
   "source": [
    "print(len(np.unique(data[:, 0])))"
   ]
  },
  {
   "cell_type": "code",
   "execution_count": 59,
   "id": "a2d83736-31b5-48f5-a416-c82583852a99",
   "metadata": {},
   "outputs": [],
   "source": [
    "min_items_per_user = 10\n",
    "train_cutoff = 0.8\n",
    "valid_cutoff = 0.9\n",
    "test_cutoff = 1.0"
   ]
  },
  {
   "cell_type": "code",
   "execution_count": 32,
   "id": "16c2dab3-39b3-4c63-bc26-e1ebaf3d5887",
   "metadata": {},
   "outputs": [
    {
     "data": {
      "text/plain": [
       "array([[   1,    0,  156],\n",
       "       [   1,    1,  169],\n",
       "       [   1,    0,  588],\n",
       "       ...,\n",
       "       [4416, 1515, 4015],\n",
       "       [4416, 1984, 4008],\n",
       "       [4416, 2375, 4022]])"
      ]
     },
     "execution_count": 32,
     "metadata": {},
     "output_type": "execute_result"
    }
   ],
   "source": [
    "data"
   ]
  },
  {
   "cell_type": "code",
   "execution_count": 42,
   "id": "aec0a5f6-1d10-405a-abee-726bc6d53112",
   "metadata": {},
   "outputs": [
    {
     "name": "stdout",
     "output_type": "stream",
     "text": [
      "lol\n"
     ]
    }
   ],
   "source": [
    "users, counts = np.unique(data[:,0], return_counts=True)\n",
    "for user, count in zip(users, counts):\n",
    "    print('lol')\n",
    "    break"
   ]
  },
  {
   "cell_type": "code",
   "execution_count": 37,
   "id": "c8c439dc-28e6-458b-9908-d04a35381231",
   "metadata": {},
   "outputs": [
    {
     "ename": "ValueError",
     "evalue": "too many values to unpack (expected 2)",
     "output_type": "error",
     "traceback": [
      "\u001b[0;31m---------------------------------------------------------------------------\u001b[0m",
      "\u001b[0;31mValueError\u001b[0m                                Traceback (most recent call last)",
      "\u001b[0;32m/tmp/ipykernel_2000942/1893131895.py\u001b[0m in \u001b[0;36m<module>\u001b[0;34m\u001b[0m\n\u001b[0;32m----> 1\u001b[0;31m \u001b[0;32mfor\u001b[0m \u001b[0muser\u001b[0m\u001b[0;34m,\u001b[0m \u001b[0mcount\u001b[0m \u001b[0;32min\u001b[0m \u001b[0mnp\u001b[0m\u001b[0;34m.\u001b[0m\u001b[0munique\u001b[0m\u001b[0;34m(\u001b[0m\u001b[0mdata\u001b[0m\u001b[0;34m[\u001b[0m\u001b[0;34m:\u001b[0m\u001b[0;34m,\u001b[0m \u001b[0;36m0\u001b[0m\u001b[0;34m]\u001b[0m\u001b[0;34m,\u001b[0m \u001b[0mreturn_counts\u001b[0m\u001b[0;34m=\u001b[0m\u001b[0;32mTrue\u001b[0m\u001b[0;34m)\u001b[0m\u001b[0;34m:\u001b[0m\u001b[0;34m\u001b[0m\u001b[0;34m\u001b[0m\u001b[0m\n\u001b[0m\u001b[1;32m      2\u001b[0m     \u001b[0mprint\u001b[0m\u001b[0;34m(\u001b[0m\u001b[0muser\u001b[0m\u001b[0;34m,\u001b[0m \u001b[0mcount\u001b[0m\u001b[0;34m)\u001b[0m\u001b[0;34m\u001b[0m\u001b[0;34m\u001b[0m\u001b[0m\n\u001b[1;32m      3\u001b[0m     \u001b[0;32mbreak\u001b[0m\u001b[0;34m\u001b[0m\u001b[0;34m\u001b[0m\u001b[0m\n",
      "\u001b[0;31mValueError\u001b[0m: too many values to unpack (expected 2)"
     ]
    }
   ],
   "source": [
    "for user, count in np.unique(data[:, 0], return_counts=True):\n",
    "    print(user, count)\n",
    "    break"
   ]
  },
  {
   "cell_type": "code",
   "execution_count": 67,
   "id": "afbeec4e-c6c3-434c-a7e6-24ff2f1c210d",
   "metadata": {},
   "outputs": [],
   "source": [
    "    \n",
    "# Only keep users with >= threshold items\n",
    "users, counts = np.unique(data[:, 0], return_counts=True)\n",
    "total_items_per_user = {user: count for user, count in zip(users, counts) if count >= min_items_per_user}\n",
    "count_per_user = defaultdict(int)\n",
    "\n",
    "new_data = []\n",
    "for user, item, time in data:\n",
    "    if user not in total_items_per_user:\n",
    "        continue\n",
    "    else:\n",
    "        total_items = total_items_per_user[user]\n",
    "        \n",
    "    count_per_user[user] += 1\n",
    "    \n",
    "    if count_per_user[user] <= train_cutoff * total_items:\n",
    "        new_data.append([user, item, time, 0])\n",
    "    elif count_per_user[user] <= valid_cutoff * total_items:\n",
    "        new_data.append([user, item, time, 1])\n",
    "    elif count_per_user[user] <= total_items:\n",
    "        new_data.append([user, item, time, 2])\n",
    "    else:\n",
    "        raise ValueError(\"There's a bug in the counting of total items or curr items!\")"
   ]
  },
  {
   "cell_type": "code",
   "execution_count": 45,
   "id": "27b5a5ec-b95e-4839-be84-174223fd8801",
   "metadata": {},
   "outputs": [],
   "source": [
    "# from dataclasses import dataclass\n",
    "\n",
    "# @dataclass\n",
    "# class Item:\n",
    "#     item: int\n",
    "#     time: int\n",
    "    \n",
    "# # Only keep users with >= threshold items\n",
    "# users, counts = np.unique(data[:, 0], return_counts=True)\n",
    "# total_items_per_user = {user: count for user, count in zip(users, counts) if count >= min_items_per_user}\n",
    "# count_per_user = defaultdict(int)\n",
    "\n",
    "# new_data = []\n",
    "# for user, item, time in data:\n",
    "#     if user not in total_items_per_user:\n",
    "#         continue\n",
    "#     else:\n",
    "#         total_items = total_items_per_user[user]\n",
    "        \n",
    "#     count_per_user[user] += 1\n",
    "    \n",
    "#     train_cutoff = train_ratio * (1 - valid_ratio) * total_items\n",
    "    \n",
    "#     # Strictly training\n",
    "#     if count_per_user[user] < train_ratio * (1 - valid_ratio) * total_items:\n",
    "#         new_data.append([user, item, time, 0])\n",
    "#     # Validation data\n",
    "#     elif count_per_user[user] < train_ratio * total_items:\n",
    "#         new_data.append([user, item, time, 1])\n",
    "#     # Testing\n",
    "#     else:\n",
    "#         new_data.append([user, item, time, 2])\n",
    "        \n",
    "    \n",
    "    \n",
    "    \n",
    "        \n",
    "        \n",
    "    \n",
    "    \n",
    "# # new_data = \n",
    "# # for i in data.shape[0]:\n",
    "# #     user, item, time = data[i]\n",
    "    \n",
    "    \n",
    "\n",
    "# # sequence_dictt = {int(user): [] for user in set(data[:, 0])}\n",
    "# sequence_dict = defaultdict(list)\n",
    "\n",
    "# # sequence_dict, pert_dic = {int(user): [] for user in set(data[:, 0])}, {\n",
    "# #     int(user): [] for user in set(data[:, 0])\n",
    "# # }\n",
    "\n",
    "\n",
    "# # user_dic = {int(user): idx for (idx, user) in enumerate(users)}\n",
    "\n",
    "# # new_data = []\n",
    "# # for row in range(len(data)):\n",
    "# #     user, item, time = data[i]\n",
    "\n",
    "# #     if user in user_dic:\n",
    "# #         new_data.append([user, item, time, 0])\n",
    "\n",
    "# # new_data = np.array(new_data)\n",
    "\n",
    "# # for i in range(new_data.shape[0]):\n",
    "# #     user, item, time = new_data[i]\n",
    "# #     sequence_dict[user].append([i, item, time])\n",
    "\n",
    "# # for user in sequence_dict.keys():\n",
    "# #     cur_test = int(0.05 * len(sequence_dict[user]))\n",
    "# #     for i in range(cur_test):\n",
    "# #         interaction = sequence_dict[user].pop()\n",
    "# #         new_data[interaction[0], 3] = 2\n",
    "\n",
    "#     # cur_val = int(0.1*len(sequence_dict[user]))\n",
    "#     # for i in range(cur_val):\n",
    "#     #    interaction = sequence_dict[user].pop()\n",
    "#     #    new_data[interaction[0],3] = 1"
   ]
  },
  {
   "cell_type": "code",
   "execution_count": 48,
   "id": "9951be3b-9e12-45d3-84e0-c0eaea612d30",
   "metadata": {},
   "outputs": [
    {
     "data": {
      "text/plain": [
       "209"
      ]
     },
     "execution_count": 48,
     "metadata": {},
     "output_type": "execute_result"
    }
   ],
   "source": [
    "max(num_items_per_user.values())"
   ]
  },
  {
   "cell_type": "markdown",
   "id": "d2a3a81a-b39c-4542-bca8-db06891c1d02",
   "metadata": {},
   "source": [
    "# Continued Data Processing"
   ]
  },
  {
   "cell_type": "code",
   "execution_count": 46,
   "id": "2f50e3a6-4ff6-4aef-a75a-b2c536c3f71d",
   "metadata": {},
   "outputs": [
    {
     "name": "stdout",
     "output_type": "stream",
     "text": [
      "Preprocessing Data\n"
     ]
    }
   ],
   "source": [
    "# In[5] Data preprocessing\n",
    "print(\"Preprocessing Data\")\n",
    "original_data = train_test_split(data=data)\n",
    "(train,valid, test) = sequence_generator(original_data,LOOK_BACK)\n",
    "test_ground_truth = {i:test[i][1] for i in range(len(test))}\n",
    "\n",
    "print(\"Train: {}, Test: {}\".format(len(train),len(test)))\n",
    "\n",
    "\n",
    "\n",
    "# # %%\n",
    "# # In[6] Run LSTM\n",
    "# model = LSTM(input_size=128, output_size=len(unique_items)+1, hidden_dim=64, n_layers=1, device=device).to(device)\n",
    "# model.LSTM.flatten_parameters()\n",
    "# print(\"Model is \", model)\n",
    "# print(\"Training and testing\")\n",
    "# original_prediction = model.traintest(train=train,test=test,epochs = 500)\n",
    "# print(\"Finished\")"
   ]
  },
  {
   "cell_type": "code",
   "execution_count": 65,
   "id": "5703ff3b-72a7-431c-9fcf-01615b601154",
   "metadata": {},
   "outputs": [],
   "source": [
    "with open(f\"{DATA_FOLDER}sequence/temp.data\", 'wb') as f:\n",
    "    pickle.dump(train, f)"
   ]
  },
  {
   "cell_type": "code",
   "execution_count": 67,
   "id": "40d2ee09-690d-4bdf-b651-5214844e3bd5",
   "metadata": {},
   "outputs": [],
   "source": [
    "with open(f\"{DATA_FOLDER}sequence/temp.data\", \"rb\") as f:\n",
    "    data = pickle.load(f)"
   ]
  },
  {
   "cell_type": "code",
   "execution_count": 70,
   "id": "dd5397f6-9194-4464-a835-a296539cb341",
   "metadata": {},
   "outputs": [
    {
     "data": {
      "text/plain": [
       "11056373"
      ]
     },
     "execution_count": 70,
     "metadata": {},
     "output_type": "execute_result"
    }
   ],
   "source": [
    "os.path.getsize(f\"{DATA_FOLDER}sequence/temp.data\")"
   ]
  },
  {
   "cell_type": "markdown",
   "id": "8261da62-e40c-49c0-82d0-1ed485aa0b71",
   "metadata": {},
   "source": [
    "# junk below"
   ]
  },
  {
   "cell_type": "code",
   "execution_count": null,
   "id": "24b5a816-8675-48bd-ae32-6d9cb1732ba7",
   "metadata": {},
   "outputs": [],
   "source": [
    "assert torch.cuda.is_available()\n",
    "device = torch.device(\"cuda\")\n",
    "print(f\"Device is: {device}\")"
   ]
  },
  {
   "cell_type": "code",
   "execution_count": 28,
   "id": "f10c4d58-3ff2-4983-a154-91db6cef8c63",
   "metadata": {},
   "outputs": [],
   "source": [
    "df = pd.read_csv(os.path.join(DATA_FOLDER, DATA))"
   ]
  },
  {
   "cell_type": "code",
   "execution_count": 29,
   "id": "943e8fb4-ba15-48e4-a6d5-4a6284d1045b",
   "metadata": {},
   "outputs": [
    {
     "name": "stdout",
     "output_type": "stream",
     "text": [
      "Device is  cuda\n",
      "Loading data\n",
      "   user_id    stream_id  streamer_name  start_time  stop_time  community\n",
      "0        1  33842865744              0         154        156          5\n",
      "1        1  33846768288              1         166        169          5\n",
      "2        1  33886469056              0         587        588          5\n",
      "3        1  33887624992              2         589        591          5\n",
      "4        1  33890145056              3         591        594          5\n",
      "   user_id  streamer_name  stop_time\n",
      "0        1              0        156\n",
      "1        1              1        169\n",
      "2        1              0        588\n",
      "3        1              2        591\n",
      "4        1              3        594\n",
      "[[   1    0  156]\n",
      " [   1    1  169]\n",
      " [   1    0  588]\n",
      " ...\n",
      " [4416 1515 4015]\n",
      " [4416 1984 4008]\n",
      " [4416 2375 4022]]\n"
     ]
    }
   ],
   "source": [
    "device = torch.device(\"cuda\" if torch.cuda.is_available() else \"cpu\")\n",
    "print(\"Device is \", device)\n",
    "\n",
    "\n",
    "# In[4] Load data (ex: wikipedia [user, item, timestamp])\n",
    "print(\"Loading data\")\n",
    "path = os.getcwd()\n",
    "raw_data = pd.read_csv(path + \"/data/twitch100k.csv\", sep=',', header=0)\n",
    "print(raw_data.head())\n",
    "# streamer_community_dict = pd.Series(raw_data['community'].values, index=raw_data['streamer_name']).to_dict()\n",
    "data = raw_data[['user_id', 'streamer_name', 'stop_time']]\n",
    "print(data.head())\n",
    "data = data.values\n",
    "look_back = 50\n",
    "print(data)"
   ]
  },
  {
   "cell_type": "code",
   "execution_count": 73,
   "id": "a6485943-7491-47e9-90ec-3d0d63e6bd7e",
   "metadata": {},
   "outputs": [
    {
     "data": {
      "text/plain": [
       "5672"
      ]
     },
     "execution_count": 73,
     "metadata": {},
     "output_type": "execute_result"
    }
   ],
   "source": [
    "len(set(df['streamer_name']))"
   ]
  },
  {
   "cell_type": "code",
   "execution_count": 72,
   "id": "998751a9-f8f7-4156-a7db-e943d491a104",
   "metadata": {},
   "outputs": [
    {
     "data": {
      "text/plain": [
       "5671"
      ]
     },
     "execution_count": 72,
     "metadata": {},
     "output_type": "execute_result"
    }
   ],
   "source": [
    "max(df['streamer_name'])"
   ]
  },
  {
   "cell_type": "code",
   "execution_count": 9,
   "id": "0b3ca233-dad3-469f-a853-00cf5c4b0983",
   "metadata": {},
   "outputs": [],
   "source": [
    "nums = [1,2,3]"
   ]
  },
  {
   "cell_type": "code",
   "execution_count": 10,
   "id": "03176c5d-148f-471e-8eb9-c1c5981881d2",
   "metadata": {},
   "outputs": [],
   "source": [
    "x, y, z = nums"
   ]
  },
  {
   "cell_type": "code",
   "execution_count": 11,
   "id": "e087352c-9106-4bdb-ae20-0e27768bce52",
   "metadata": {},
   "outputs": [
    {
     "data": {
      "text/plain": [
       "1"
      ]
     },
     "execution_count": 11,
     "metadata": {},
     "output_type": "execute_result"
    }
   ],
   "source": [
    "x"
   ]
  },
  {
   "cell_type": "code",
   "execution_count": null,
   "id": "b97baeab-99b6-4286-a49e-d774a1983b53",
   "metadata": {},
   "outputs": [],
   "source": []
  }
 ],
 "metadata": {
  "kernelspec": {
   "display_name": "cse_v1",
   "language": "python",
   "name": "cse_v1"
  },
  "language_info": {
   "codemirror_mode": {
    "name": "ipython",
    "version": 3
   },
   "file_extension": ".py",
   "mimetype": "text/x-python",
   "name": "python",
   "nbconvert_exporter": "python",
   "pygments_lexer": "ipython3",
   "version": "3.9.7"
  }
 },
 "nbformat": 4,
 "nbformat_minor": 5
}
