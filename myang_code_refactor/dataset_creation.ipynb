{
 "cells": [
  {
   "cell_type": "code",
   "execution_count": 1,
   "id": "24dd97c7-60e9-48f7-a28c-4f8f236aa6d2",
   "metadata": {},
   "outputs": [],
   "source": [
    "%load_ext autoreload"
   ]
  },
  {
   "cell_type": "code",
   "execution_count": 2,
   "id": "06555c04-6883-4237-9f28-0cd13f4b1022",
   "metadata": {},
   "outputs": [],
   "source": [
    "%autoreload 2"
   ]
  },
  {
   "cell_type": "code",
   "execution_count": 3,
   "id": "7a026ae5-657c-477b-83e2-cc02565861c2",
   "metadata": {},
   "outputs": [
    {
     "name": "stdout",
     "output_type": "stream",
     "text": [
      "/raid/home/myang349/recsys-filterbubbles\n"
     ]
    }
   ],
   "source": [
    "cd /raid/home/myang349/recsys-filterbubbles/"
   ]
  },
  {
   "cell_type": "code",
   "execution_count": 4,
   "id": "d90ae3b3-5451-48a5-a3ef-1afe482c4feb",
   "metadata": {},
   "outputs": [],
   "source": [
    "import torch\n",
    "import torch.nn as nn\n",
    "import torch.nn.functional as F\n",
    "import os\n",
    "import torch.optim as optim\n",
    "from os import listdir\n",
    "from os.path import isfile, join\n",
    "from tracin.tracin import (\n",
    "    save_tracin_checkpoint,\n",
    "    load_tracin_checkpoint,\n",
    "    calculate_tracin_influence,\n",
    ")\n",
    "import pandas as pd\n",
    "from LSTM_clean.utils import train_test_split, sequence_generator, printl\n",
    "from LSTM_clean.model import LSTM \n",
    "from collections import Counter\n",
    "import numpy as np\n",
    "import pickle"
   ]
  },
  {
   "cell_type": "code",
   "execution_count": 5,
   "id": "ae3c90f1-f5bf-4b1a-8cb8-b5d90fffe01e",
   "metadata": {},
   "outputs": [
    {
     "data": {
      "text/plain": [
       "'/raid/home/myang349/recsys-filterbubbles'"
      ]
     },
     "execution_count": 5,
     "metadata": {},
     "output_type": "execute_result"
    }
   ],
   "source": [
    "os.getcwd()"
   ]
  },
  {
   "cell_type": "code",
   "execution_count": 6,
   "id": "e18941ca-2db2-47c9-addb-0b1f7fe45703",
   "metadata": {},
   "outputs": [],
   "source": [
    "DATA_FOLDER = \"/raid/home/myang349/recsys-filterbubbles/data/\"\n",
    "DATA_NAME = \"twitch100k.csv\"\n",
    "USER_KEY = 'user_id'\n",
    "ITEM_KEY = 'streamer_name'\n",
    "TIME_KEY = 'stop_time'\n",
    "LOOK_BACK = 50"
   ]
  },
  {
   "cell_type": "code",
   "execution_count": 7,
   "id": "0b35a1c1-b4ad-4e1f-b6c4-cde5d7161325",
   "metadata": {},
   "outputs": [
    {
     "name": "stdout",
     "output_type": "stream",
     "text": [
      "Device is  cuda\n"
     ]
    }
   ],
   "source": [
    "device = torch.device(\"cuda\" if torch.cuda.is_available() else \"cpu\")\n",
    "print(\"Device is \", device)\n"
   ]
  },
  {
   "cell_type": "markdown",
   "id": "4728a618-f5f2-4968-819f-9277c1993122",
   "metadata": {},
   "source": [
    "# Loading Data"
   ]
  },
  {
   "cell_type": "code",
   "execution_count": 8,
   "id": "994b83ce-fb36-4a9e-9fbf-77e87b0d9ab7",
   "metadata": {},
   "outputs": [
    {
     "name": "stdout",
     "output_type": "stream",
     "text": [
      "Starting data retrieval for: twitch100k.csv\n"
     ]
    }
   ],
   "source": [
    "print(f\"Starting data retrieval for: {DATA_NAME}\")\n",
    "df = pd.read_csv(os.path.join(DATA_FOLDER, DATA_NAME))"
   ]
  },
  {
   "cell_type": "code",
   "execution_count": 14,
   "id": "358196ea-af02-41c9-a32c-f449555c2275",
   "metadata": {},
   "outputs": [],
   "source": [
    "# Not needed because it is already done by the sequence generator function\n",
    "# if 0 in df['streamer_name'].values:\n",
    "#     df['streamer_name'] = df['streamer_name'].apply(lambda x: x + 1)"
   ]
  },
  {
   "cell_type": "code",
   "execution_count": 21,
   "id": "ed18ce64-e855-46f1-9adf-87c429f1bfe2",
   "metadata": {},
   "outputs": [],
   "source": [
    "data = df[[USER_KEY, ITEM_KEY, TIME_KEY]]\n",
    "data = data.values"
   ]
  },
  {
   "cell_type": "code",
   "execution_count": 22,
   "id": "357c768c-d438-4b56-ade2-5c2312cb8350",
   "metadata": {},
   "outputs": [],
   "source": [
    "unique_users = sorted(list(set(data[:, 0])))\n",
    "unique_items = sorted(list(set(data[:, 1])))"
   ]
  },
  {
   "cell_type": "code",
   "execution_count": 23,
   "id": "7d67235a-b960-457b-a19f-690665980c7a",
   "metadata": {},
   "outputs": [],
   "source": [
    "\n",
    "user_dic = {user:idx for (idx,user) in enumerate(unique_users)}\n",
    "item_dic = {item:idx for (idx,item) in enumerate(unique_items)}\n",
    "\n",
    "# for (idx, row) in enumerate(data):\n",
    "#     user,item,time = user_dic[row[0]],item_dic[row[1]],row[2]\n",
    "#     data[idx,0],data[idx,1] = int(user),int(item)"
   ]
  },
  {
   "cell_type": "code",
   "execution_count": 40,
   "id": "ae175d74-bb39-4e46-be11-4f8cba34dcf2",
   "metadata": {},
   "outputs": [
    {
     "data": {
      "text/plain": [
       "torch.Size([49, 128])"
      ]
     },
     "execution_count": 40,
     "metadata": {},
     "output_type": "execute_result"
    }
   ],
   "source": [
    "train[0][0].shape"
   ]
  },
  {
   "cell_type": "code",
   "execution_count": 42,
   "id": "d52aee35-7359-4fdc-994a-1deacd26fc72",
   "metadata": {},
   "outputs": [
    {
     "data": {
      "text/plain": [
       "torch.Size([49, 128])"
      ]
     },
     "execution_count": 42,
     "metadata": {},
     "output_type": "execute_result"
    }
   ],
   "source": [
    "train[1][0].shape"
   ]
  },
  {
   "cell_type": "code",
   "execution_count": 44,
   "id": "fae06a2a-6e25-4b7e-ba15-a63d95a53ac8",
   "metadata": {},
   "outputs": [],
   "source": [
    "items_per_user = {int(user) : [0 for i in range(LOOK_BACK)] for user in unique_users}"
   ]
  },
  {
   "cell_type": "code",
   "execution_count": 46,
   "id": "2f50e3a6-4ff6-4aef-a75a-b2c536c3f71d",
   "metadata": {},
   "outputs": [
    {
     "name": "stdout",
     "output_type": "stream",
     "text": [
      "Preprocessing Data\n"
     ]
    }
   ],
   "source": [
    "# In[5] Data preprocessing\n",
    "print(\"Preprocessing Data\")\n",
    "original_data = train_test_split(data=data)\n",
    "(train,valid, test) = sequence_generator(original_data,LOOK_BACK)\n",
    "test_ground_truth = {i:test[i][1] for i in range(len(test))}\n",
    "\n",
    "print(\"Train: {}, Test: {}\".format(len(train),len(test)))\n",
    "\n",
    "\n",
    "\n",
    "# # %%\n",
    "# # In[6] Run LSTM\n",
    "# model = LSTM(input_size=128, output_size=len(unique_items)+1, hidden_dim=64, n_layers=1, device=device).to(device)\n",
    "# model.LSTM.flatten_parameters()\n",
    "# print(\"Model is \", model)\n",
    "# print(\"Training and testing\")\n",
    "# original_prediction = model.traintest(train=train,test=test,epochs = 500)\n",
    "# print(\"Finished\")"
   ]
  },
  {
   "cell_type": "code",
   "execution_count": 65,
   "id": "5703ff3b-72a7-431c-9fcf-01615b601154",
   "metadata": {},
   "outputs": [],
   "source": [
    "with open(f\"{DATA_FOLDER}sequence/temp.data\", 'wb') as f:\n",
    "    pickle.dump(train, f)"
   ]
  },
  {
   "cell_type": "code",
   "execution_count": 67,
   "id": "40d2ee09-690d-4bdf-b651-5214844e3bd5",
   "metadata": {},
   "outputs": [],
   "source": [
    "with open(f\"{DATA_FOLDER}sequence/temp.data\", \"rb\") as f:\n",
    "    data = pickle.load(f)"
   ]
  },
  {
   "cell_type": "code",
   "execution_count": 70,
   "id": "dd5397f6-9194-4464-a835-a296539cb341",
   "metadata": {},
   "outputs": [
    {
     "data": {
      "text/plain": [
       "11056373"
      ]
     },
     "execution_count": 70,
     "metadata": {},
     "output_type": "execute_result"
    }
   ],
   "source": [
    "os.path.getsize(f\"{DATA_FOLDER}sequence/temp.data\")"
   ]
  },
  {
   "cell_type": "markdown",
   "id": "8261da62-e40c-49c0-82d0-1ed485aa0b71",
   "metadata": {},
   "source": [
    "# junk below"
   ]
  },
  {
   "cell_type": "code",
   "execution_count": null,
   "id": "24b5a816-8675-48bd-ae32-6d9cb1732ba7",
   "metadata": {},
   "outputs": [],
   "source": [
    "assert torch.cuda.is_available()\n",
    "device = torch.device(\"cuda\")\n",
    "print(f\"Device is: {device}\")"
   ]
  },
  {
   "cell_type": "code",
   "execution_count": 28,
   "id": "f10c4d58-3ff2-4983-a154-91db6cef8c63",
   "metadata": {},
   "outputs": [],
   "source": [
    "df = pd.read_csv(os.path.join(DATA_FOLDER, DATA))"
   ]
  },
  {
   "cell_type": "code",
   "execution_count": 29,
   "id": "943e8fb4-ba15-48e4-a6d5-4a6284d1045b",
   "metadata": {},
   "outputs": [
    {
     "name": "stdout",
     "output_type": "stream",
     "text": [
      "Device is  cuda\n",
      "Loading data\n",
      "   user_id    stream_id  streamer_name  start_time  stop_time  community\n",
      "0        1  33842865744              0         154        156          5\n",
      "1        1  33846768288              1         166        169          5\n",
      "2        1  33886469056              0         587        588          5\n",
      "3        1  33887624992              2         589        591          5\n",
      "4        1  33890145056              3         591        594          5\n",
      "   user_id  streamer_name  stop_time\n",
      "0        1              0        156\n",
      "1        1              1        169\n",
      "2        1              0        588\n",
      "3        1              2        591\n",
      "4        1              3        594\n",
      "[[   1    0  156]\n",
      " [   1    1  169]\n",
      " [   1    0  588]\n",
      " ...\n",
      " [4416 1515 4015]\n",
      " [4416 1984 4008]\n",
      " [4416 2375 4022]]\n"
     ]
    }
   ],
   "source": [
    "device = torch.device(\"cuda\" if torch.cuda.is_available() else \"cpu\")\n",
    "print(\"Device is \", device)\n",
    "\n",
    "\n",
    "# In[4] Load data (ex: wikipedia [user, item, timestamp])\n",
    "print(\"Loading data\")\n",
    "path = os.getcwd()\n",
    "raw_data = pd.read_csv(path + \"/data/twitch100k.csv\", sep=',', header=0)\n",
    "print(raw_data.head())\n",
    "# streamer_community_dict = pd.Series(raw_data['community'].values, index=raw_data['streamer_name']).to_dict()\n",
    "data = raw_data[['user_id', 'streamer_name', 'stop_time']]\n",
    "print(data.head())\n",
    "data = data.values\n",
    "look_back = 50\n",
    "print(data)"
   ]
  },
  {
   "cell_type": "code",
   "execution_count": 73,
   "id": "a6485943-7491-47e9-90ec-3d0d63e6bd7e",
   "metadata": {},
   "outputs": [
    {
     "data": {
      "text/plain": [
       "5672"
      ]
     },
     "execution_count": 73,
     "metadata": {},
     "output_type": "execute_result"
    }
   ],
   "source": [
    "len(set(df['streamer_name']))"
   ]
  },
  {
   "cell_type": "code",
   "execution_count": 72,
   "id": "998751a9-f8f7-4156-a7db-e943d491a104",
   "metadata": {},
   "outputs": [
    {
     "data": {
      "text/plain": [
       "5671"
      ]
     },
     "execution_count": 72,
     "metadata": {},
     "output_type": "execute_result"
    }
   ],
   "source": [
    "max(df['streamer_name'])"
   ]
  },
  {
   "cell_type": "code",
   "execution_count": 9,
   "id": "0b3ca233-dad3-469f-a853-00cf5c4b0983",
   "metadata": {},
   "outputs": [],
   "source": [
    "nums = [1,2,3]"
   ]
  },
  {
   "cell_type": "code",
   "execution_count": 10,
   "id": "03176c5d-148f-471e-8eb9-c1c5981881d2",
   "metadata": {},
   "outputs": [],
   "source": [
    "x, y, z = nums"
   ]
  },
  {
   "cell_type": "code",
   "execution_count": 11,
   "id": "e087352c-9106-4bdb-ae20-0e27768bce52",
   "metadata": {},
   "outputs": [
    {
     "data": {
      "text/plain": [
       "1"
      ]
     },
     "execution_count": 11,
     "metadata": {},
     "output_type": "execute_result"
    }
   ],
   "source": [
    "x"
   ]
  },
  {
   "cell_type": "code",
   "execution_count": null,
   "id": "b97baeab-99b6-4286-a49e-d774a1983b53",
   "metadata": {},
   "outputs": [],
   "source": []
  }
 ],
 "metadata": {
  "kernelspec": {
   "display_name": "cse_v1",
   "language": "python",
   "name": "cse_v1"
  },
  "language_info": {
   "codemirror_mode": {
    "name": "ipython",
    "version": 3
   },
   "file_extension": ".py",
   "mimetype": "text/x-python",
   "name": "python",
   "nbconvert_exporter": "python",
   "pygments_lexer": "ipython3",
   "version": "3.9.7"
  }
 },
 "nbformat": 4,
 "nbformat_minor": 5
}
