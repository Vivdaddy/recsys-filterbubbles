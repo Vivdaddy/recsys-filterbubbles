{
 "cells": [
  {
   "cell_type": "code",
   "execution_count": 31,
   "id": "24dd97c7-60e9-48f7-a28c-4f8f236aa6d2",
   "metadata": {},
   "outputs": [
    {
     "name": "stdout",
     "output_type": "stream",
     "text": [
      "The autoreload extension is already loaded. To reload it, use:\n",
      "  %reload_ext autoreload\n"
     ]
    }
   ],
   "source": [
    "%load_ext autoreload"
   ]
  },
  {
   "cell_type": "code",
   "execution_count": 32,
   "id": "06555c04-6883-4237-9f28-0cd13f4b1022",
   "metadata": {},
   "outputs": [],
   "source": [
    "%autoreload 2"
   ]
  },
  {
   "cell_type": "code",
   "execution_count": 33,
   "id": "7a026ae5-657c-477b-83e2-cc02565861c2",
   "metadata": {},
   "outputs": [
    {
     "data": {
      "text/plain": [
       "'/raid/home/myang349/recsys-filterbubbles'"
      ]
     },
     "execution_count": 33,
     "metadata": {},
     "output_type": "execute_result"
    }
   ],
   "source": [
    "pwd"
   ]
  },
  {
   "cell_type": "code",
   "execution_count": 34,
   "id": "d9d5d2e8-4e64-4340-96e3-92387d99439a",
   "metadata": {},
   "outputs": [
    {
     "name": "stdout",
     "output_type": "stream",
     "text": [
      "Device is  cpu\n",
      "Loading data\n",
      "Data looks like \n",
      "    user_id    stream_id  streamer_name  start_time  stop_time  community\n",
      "0        1  33842865744              0         154        156          5\n",
      "1        1  33846768288              1         166        169          5\n",
      "2        1  33886469056              0         587        588          5\n",
      "3        1  33887624992              2         589        591          5\n",
      "4        1  33890145056              3         591        594          5\n",
      "Cleaned data looks like \n",
      "    user_id  streamer_name  stop_time\n",
      "0        1              0        156\n",
      "1        1              1        169\n",
      "2        1              0        588\n",
      "3        1              2        591\n",
      "4        1              3        594\n",
      "Preprocessing Data\n",
      "Train: 87403, Test: 3206\n",
      "__________________________________________________________________________\n",
      "Source is  tensor([0, 0, 0, 0, 0, 0, 0, 0, 0, 0, 0, 0, 0, 0, 0, 0, 0, 0, 0, 0, 0, 0, 0, 0,\n",
      "        0, 0, 0, 0, 0, 0, 0, 0, 0, 0, 0, 0, 0, 0, 0, 0, 0, 0, 0, 0, 0, 0, 1, 2,\n",
      "        1])\n",
      "Source label is  tensor([3])\n",
      "Target is  tensor([ 0,  1,  2,  1,  3,  4,  5,  6,  3,  6,  1,  7,  1,  8,  9,  8,  1,  6,\n",
      "         7,  3, 10,  1, 11,  8, 12,  1,  9,  8, 12, 13,  4, 14,  3, 10, 13, 11,\n",
      "        12, 15, 16, 17, 18, 10,  3, 15, 17,  6,  6, 18, 15])\n",
      "Target Label is  tensor([1])\n",
      "Calculating Influence \n",
      " __________________________________\n",
      "Influence is  tensor(-632.5660)\n",
      "__________________________________________________________________________\n",
      "Source is  tensor([ 0,  0,  0,  0,  0,  0,  0,  0,  0,  0,  0,  0,  0,  0,  0,  0,  0,  0,\n",
      "         0,  0,  0,  0,  0,  0,  0,  0,  0,  0,  0,  0,  0,  0,  0,  0,  0,  0,\n",
      "        34,  6,  1,  6, 35, 34, 36, 37,  7, 36, 38, 36, 34])\n",
      "Source label is  tensor([39])\n",
      "Target is  tensor([ 0,  0,  0,  0,  0,  0,  0,  0,  0,  0,  0,  0,  0,  0,  0,  0,  0,  0,\n",
      "         0, 51, 51, 52, 53, 51, 53, 53, 53, 53, 53, 51, 54, 55, 56, 57, 58, 58,\n",
      "        58, 53, 59, 53, 60, 58, 58, 58, 58, 61, 53, 51, 51])\n",
      "Target Label is  tensor([53])\n",
      "Calculating Influence \n",
      " __________________________________\n",
      "Influence is  tensor(153.6858)\n",
      "__________________________________________________________________________\n",
      "Source is  tensor([0, 0, 0, 0, 0, 0, 0, 0, 0, 0, 0, 0, 0, 0, 0, 0, 0, 0, 0, 0, 0, 0, 0, 0,\n",
      "        0, 0, 0, 0, 0, 0, 0, 0, 0, 0, 0, 0, 0, 0, 0, 0, 0, 0, 0, 0, 0, 0, 0, 1,\n",
      "        2])\n",
      "Source label is  tensor([1])\n",
      "Target is  tensor([ 99,  88,  89,  94,  89,  89,  89,  89,  88, 100,  96,  84,  89,  84,\n",
      "         89, 101, 101,  91,  90,  84, 102, 103, 100,  89,  84,  89, 104, 105,\n",
      "         85, 104,  84, 103,  97,  84, 100,  95,  84,  85, 104,  87, 106,  88,\n",
      "         96,  97,  84,  95, 100,  89, 107])\n",
      "Target Label is  tensor([85])\n",
      "Calculating Influence \n",
      " __________________________________\n",
      "Influence is  tensor(91.6586)\n",
      "__________________________________________________________________________\n",
      "Source is  tensor([ 0,  0,  0,  0,  0,  0,  0,  0,  0,  0,  0,  0,  0,  0,  0,  0,  0,  0,\n",
      "         0,  0,  0,  0,  0,  0,  0,  0,  0,  0,  0, 83, 84, 85, 86, 87, 83, 88,\n",
      "        89, 90, 91, 92, 93, 94, 89, 95, 95, 89, 96, 97, 98])\n",
      "Source label is  tensor([89])\n",
      "Target is  tensor([34, 36, 37,  7, 36, 38, 36, 34, 39, 36,  6,  1, 34,  6, 40,  3, 41,  6,\n",
      "        36, 42, 36, 42, 36, 37,  7, 10, 36, 42, 36,  1, 43, 42, 38,  4,  3, 36,\n",
      "        34, 35, 42,  6, 44, 42,  1, 36,  6, 45,  3, 36, 34])\n",
      "Target Label is  tensor([42])\n",
      "Calculating Influence \n",
      " __________________________________\n",
      "Influence is  tensor(70.9169)\n",
      "\n",
      "\n",
      "Self-influence!\n",
      "Source is  tensor([34, 36, 37,  7, 36, 38, 36, 34, 39, 36,  6,  1, 34,  6, 40,  3, 41,  6,\n",
      "        36, 42, 36, 42, 36, 37,  7, 10, 36, 42, 36,  1, 43, 42, 38,  4,  3, 36,\n",
      "        34, 35, 42,  6, 44, 42,  1, 36,  6, 45,  3, 36, 34])\n",
      "Source label is  tensor([42])\n",
      "Target is  tensor([34, 36, 37,  7, 36, 38, 36, 34, 39, 36,  6,  1, 34,  6, 40,  3, 41,  6,\n",
      "        36, 42, 36, 42, 36, 37,  7, 10, 36, 42, 36,  1, 43, 42, 38,  4,  3, 36,\n",
      "        34, 35, 42,  6, 44, 42,  1, 36,  6, 45,  3, 36, 34])\n",
      "Target Label is  tensor([42])\n",
      "Calculating Influence \n",
      " __________________________________\n",
      "Influence is  tensor(35078.3867)\n"
     ]
    }
   ],
   "source": [
    "%run tracin_lstm.py"
   ]
  },
  {
   "cell_type": "code",
   "execution_count": 20,
   "id": "bc3771e8-ac9c-4ae5-be72-e9d96b8b0704",
   "metadata": {},
   "outputs": [],
   "source": [
    "train,test, train_items, test_items = sequence_generator(original_data,look_back)"
   ]
  },
  {
   "cell_type": "code",
   "execution_count": 4,
   "id": "f7fd7783-2fc5-431e-80e9-04c0ad507736",
   "metadata": {},
   "outputs": [
    {
     "data": {
      "text/plain": [
       "False"
      ]
     },
     "execution_count": 4,
     "metadata": {},
     "output_type": "execute_result"
    }
   ],
   "source": [
    "torch.cuda.is_available()"
   ]
  },
  {
   "cell_type": "code",
   "execution_count": 5,
   "id": "2b4ded0c-b7b7-4e19-a115-27db496c9963",
   "metadata": {},
   "outputs": [
    {
     "ename": "AssertionError",
     "evalue": "Torch not compiled with CUDA enabled",
     "output_type": "error",
     "traceback": [
      "\u001b[0;31m---------------------------------------------------------------------------\u001b[0m",
      "\u001b[0;31mAssertionError\u001b[0m                            Traceback (most recent call last)",
      "\u001b[0;32m/tmp/ipykernel_684051/361484350.py\u001b[0m in \u001b[0;36m<module>\u001b[0;34m\u001b[0m\n\u001b[0;32m----> 1\u001b[0;31m \u001b[0mtorch\u001b[0m\u001b[0;34m.\u001b[0m\u001b[0mcuda\u001b[0m\u001b[0;34m.\u001b[0m\u001b[0mcurrent_device\u001b[0m\u001b[0;34m(\u001b[0m\u001b[0;34m)\u001b[0m\u001b[0;34m\u001b[0m\u001b[0;34m\u001b[0m\u001b[0m\n\u001b[0m",
      "\u001b[0;32m~/miniconda3/envs/cse_v0/lib/python3.9/site-packages/torch/cuda/__init__.py\u001b[0m in \u001b[0;36mcurrent_device\u001b[0;34m()\u001b[0m\n\u001b[1;32m    386\u001b[0m \u001b[0;32mdef\u001b[0m \u001b[0mcurrent_device\u001b[0m\u001b[0;34m(\u001b[0m\u001b[0;34m)\u001b[0m \u001b[0;34m->\u001b[0m \u001b[0mint\u001b[0m\u001b[0;34m:\u001b[0m\u001b[0;34m\u001b[0m\u001b[0;34m\u001b[0m\u001b[0m\n\u001b[1;32m    387\u001b[0m     \u001b[0;34mr\"\"\"Returns the index of a currently selected device.\"\"\"\u001b[0m\u001b[0;34m\u001b[0m\u001b[0;34m\u001b[0m\u001b[0m\n\u001b[0;32m--> 388\u001b[0;31m     \u001b[0m_lazy_init\u001b[0m\u001b[0;34m(\u001b[0m\u001b[0;34m)\u001b[0m\u001b[0;34m\u001b[0m\u001b[0;34m\u001b[0m\u001b[0m\n\u001b[0m\u001b[1;32m    389\u001b[0m     \u001b[0;32mreturn\u001b[0m \u001b[0mtorch\u001b[0m\u001b[0;34m.\u001b[0m\u001b[0m_C\u001b[0m\u001b[0;34m.\u001b[0m\u001b[0m_cuda_getDevice\u001b[0m\u001b[0;34m(\u001b[0m\u001b[0;34m)\u001b[0m\u001b[0;34m\u001b[0m\u001b[0;34m\u001b[0m\u001b[0m\n\u001b[1;32m    390\u001b[0m \u001b[0;34m\u001b[0m\u001b[0m\n",
      "\u001b[0;32m~/miniconda3/envs/cse_v0/lib/python3.9/site-packages/torch/cuda/__init__.py\u001b[0m in \u001b[0;36m_lazy_init\u001b[0;34m()\u001b[0m\n\u001b[1;32m    162\u001b[0m                 \"multiprocessing, you must use the 'spawn' start method\")\n\u001b[1;32m    163\u001b[0m         \u001b[0;32mif\u001b[0m \u001b[0;32mnot\u001b[0m \u001b[0mhasattr\u001b[0m\u001b[0;34m(\u001b[0m\u001b[0mtorch\u001b[0m\u001b[0;34m.\u001b[0m\u001b[0m_C\u001b[0m\u001b[0;34m,\u001b[0m \u001b[0;34m'_cuda_getDeviceCount'\u001b[0m\u001b[0;34m)\u001b[0m\u001b[0;34m:\u001b[0m\u001b[0;34m\u001b[0m\u001b[0;34m\u001b[0m\u001b[0m\n\u001b[0;32m--> 164\u001b[0;31m             \u001b[0;32mraise\u001b[0m \u001b[0mAssertionError\u001b[0m\u001b[0;34m(\u001b[0m\u001b[0;34m\"Torch not compiled with CUDA enabled\"\u001b[0m\u001b[0;34m)\u001b[0m\u001b[0;34m\u001b[0m\u001b[0;34m\u001b[0m\u001b[0m\n\u001b[0m\u001b[1;32m    165\u001b[0m         \u001b[0;32mif\u001b[0m \u001b[0m_cudart\u001b[0m \u001b[0;32mis\u001b[0m \u001b[0;32mNone\u001b[0m\u001b[0;34m:\u001b[0m\u001b[0;34m\u001b[0m\u001b[0;34m\u001b[0m\u001b[0m\n\u001b[1;32m    166\u001b[0m             raise AssertionError(\n",
      "\u001b[0;31mAssertionError\u001b[0m: Torch not compiled with CUDA enabled"
     ]
    }
   ],
   "source": [
    "torch.cuda.current_device()"
   ]
  },
  {
   "cell_type": "code",
   "execution_count": 30,
   "id": "86a99ce1-6b71-4d40-aa00-82e7a3932029",
   "metadata": {},
   "outputs": [
    {
     "name": "stdout",
     "output_type": "stream",
     "text": [
      "--------------------------------------------------------------------------------\n"
     ]
    }
   ],
   "source": [
    "print(\"-\"*80)"
   ]
  },
  {
   "cell_type": "code",
   "execution_count": null,
   "id": "d90ae3b3-5451-48a5-a3ef-1afe482c4feb",
   "metadata": {},
   "outputs": [],
   "source": []
  }
 ],
 "metadata": {
  "kernelspec": {
   "display_name": "cse_v1",
   "language": "python",
   "name": "cse_v1"
  },
  "language_info": {
   "codemirror_mode": {
    "name": "ipython",
    "version": 3
   },
   "file_extension": ".py",
   "mimetype": "text/x-python",
   "name": "python",
   "nbconvert_exporter": "python",
   "pygments_lexer": "ipython3",
   "version": "3.9.7"
  }
 },
 "nbformat": 4,
 "nbformat_minor": 5
}
